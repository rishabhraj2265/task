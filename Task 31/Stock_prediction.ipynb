{
  "cells": [
    {
      "cell_type": "markdown",
      "metadata": {
        "id": "A8StjFL3faL1"
      },
      "source": [
        "## **Import important library**"
      ]
    },
    {
      "cell_type": "code",
      "execution_count": 1,
      "metadata": {
        "execution": {
          "iopub.execute_input": "2025-05-05T06:24:13.437252Z",
          "iopub.status.busy": "2025-05-05T06:24:13.43694Z",
          "iopub.status.idle": "2025-05-05T06:24:14.688576Z",
          "shell.execute_reply": "2025-05-05T06:24:14.687865Z",
          "shell.execute_reply.started": "2025-05-05T06:24:13.437218Z"
        },
        "id": "Ig2CKCFIfaL1",
        "trusted": true
      },
      "outputs": [],
      "source": [
        "import pandas as pd\n",
        "import matplotlib.pyplot as plt\n",
        "from statsmodels.tsa.seasonal import seasonal_decompose\n",
        "import warnings\n",
        "warnings.filterwarnings(action=\"ignore\")\n",
        "from statsmodels.tsa.statespace.sarimax import SARIMAX\n"
      ]
    },
    {
      "cell_type": "markdown",
      "metadata": {
        "id": "FTiMkSKGfaL1"
      },
      "source": [
        "# **Load and Explore the Data**"
      ]
    },
    {
      "cell_type": "code",
      "execution_count": 2,
      "metadata": {
        "execution": {
          "iopub.execute_input": "2025-05-05T06:25:11.147796Z",
          "iopub.status.busy": "2025-05-05T06:25:11.147386Z",
          "iopub.status.idle": "2025-05-05T06:25:12.372738Z",
          "shell.execute_reply": "2025-05-05T06:25:12.372082Z",
          "shell.execute_reply.started": "2025-05-05T06:25:11.147775Z"
        },
        "id": "44PEJV6pfaL1",
        "trusted": true
      },
      "outputs": [],
      "source": [
        "data_path = '/content/World-Stock-Prices-Dataset.csv'\n",
        "data = pd.read_csv(data_path)"
      ]
    },
    {
      "cell_type": "code",
      "execution_count": 3,
      "metadata": {
        "colab": {
          "base_uri": "https://localhost:8080/",
          "height": 310
        },
        "execution": {
          "iopub.execute_input": "2025-05-05T06:26:46.446229Z",
          "iopub.status.busy": "2025-05-05T06:26:46.445601Z",
          "iopub.status.idle": "2025-05-05T06:26:46.474393Z",
          "shell.execute_reply": "2025-05-05T06:26:46.473615Z",
          "shell.execute_reply.started": "2025-05-05T06:26:46.446191Z"
        },
        "id": "1tMSm7CKfaL1",
        "outputId": "1f2049c9-b149-4e67-9e0d-8fb620eb9e8a",
        "trusted": true
      },
      "outputs": [
        {
          "output_type": "execute_result",
          "data": {
            "text/plain": [
              "                        Date         Open         High          Low  \\\n",
              "0  2025-05-02 00:00:00-04:00     7.000000     7.025000     6.810000   \n",
              "1  2025-05-02 00:00:00-04:00    98.400002    99.879997    98.300003   \n",
              "2  2025-05-02 00:00:00-04:00     2.450000     2.470000     2.440000   \n",
              "3  2025-05-02 00:00:00-04:00    71.500000    71.820000    71.099998   \n",
              "4  2025-05-02 00:00:00-04:00  1136.660034  1159.439941  1133.319946   \n",
              "\n",
              "         Close      Volume  Dividends  Stock Splits             Brand_Name  \\\n",
              "0     6.820000   9150276.0        0.0           0.0                peloton   \n",
              "1    98.800003  29879800.0        0.0           0.0                    amd   \n",
              "2     2.470000    216600.0        0.0           0.0                ubisoft   \n",
              "3    71.650002  12627600.0        0.0           0.0  the coca-cola company   \n",
              "4  1156.489990   3767900.0        0.0           0.0                netflix   \n",
              "\n",
              "  Ticker     Industry_Tag Country  Capital Gains  \n",
              "0   PTON          fitness     usa            NaN  \n",
              "1    AMD       technology     usa            NaN  \n",
              "2  UBSFY           gaming  france            NaN  \n",
              "3     KO  food & beverage     usa            NaN  \n",
              "4   NFLX    entertainment     usa            NaN  "
            ],
            "text/html": [
              "\n",
              "  <div id=\"df-72d45fc7-8686-473d-8b23-fb33b35de82a\" class=\"colab-df-container\">\n",
              "    <div>\n",
              "<style scoped>\n",
              "    .dataframe tbody tr th:only-of-type {\n",
              "        vertical-align: middle;\n",
              "    }\n",
              "\n",
              "    .dataframe tbody tr th {\n",
              "        vertical-align: top;\n",
              "    }\n",
              "\n",
              "    .dataframe thead th {\n",
              "        text-align: right;\n",
              "    }\n",
              "</style>\n",
              "<table border=\"1\" class=\"dataframe\">\n",
              "  <thead>\n",
              "    <tr style=\"text-align: right;\">\n",
              "      <th></th>\n",
              "      <th>Date</th>\n",
              "      <th>Open</th>\n",
              "      <th>High</th>\n",
              "      <th>Low</th>\n",
              "      <th>Close</th>\n",
              "      <th>Volume</th>\n",
              "      <th>Dividends</th>\n",
              "      <th>Stock Splits</th>\n",
              "      <th>Brand_Name</th>\n",
              "      <th>Ticker</th>\n",
              "      <th>Industry_Tag</th>\n",
              "      <th>Country</th>\n",
              "      <th>Capital Gains</th>\n",
              "    </tr>\n",
              "  </thead>\n",
              "  <tbody>\n",
              "    <tr>\n",
              "      <th>0</th>\n",
              "      <td>2025-05-02 00:00:00-04:00</td>\n",
              "      <td>7.000000</td>\n",
              "      <td>7.025000</td>\n",
              "      <td>6.810000</td>\n",
              "      <td>6.820000</td>\n",
              "      <td>9150276.0</td>\n",
              "      <td>0.0</td>\n",
              "      <td>0.0</td>\n",
              "      <td>peloton</td>\n",
              "      <td>PTON</td>\n",
              "      <td>fitness</td>\n",
              "      <td>usa</td>\n",
              "      <td>NaN</td>\n",
              "    </tr>\n",
              "    <tr>\n",
              "      <th>1</th>\n",
              "      <td>2025-05-02 00:00:00-04:00</td>\n",
              "      <td>98.400002</td>\n",
              "      <td>99.879997</td>\n",
              "      <td>98.300003</td>\n",
              "      <td>98.800003</td>\n",
              "      <td>29879800.0</td>\n",
              "      <td>0.0</td>\n",
              "      <td>0.0</td>\n",
              "      <td>amd</td>\n",
              "      <td>AMD</td>\n",
              "      <td>technology</td>\n",
              "      <td>usa</td>\n",
              "      <td>NaN</td>\n",
              "    </tr>\n",
              "    <tr>\n",
              "      <th>2</th>\n",
              "      <td>2025-05-02 00:00:00-04:00</td>\n",
              "      <td>2.450000</td>\n",
              "      <td>2.470000</td>\n",
              "      <td>2.440000</td>\n",
              "      <td>2.470000</td>\n",
              "      <td>216600.0</td>\n",
              "      <td>0.0</td>\n",
              "      <td>0.0</td>\n",
              "      <td>ubisoft</td>\n",
              "      <td>UBSFY</td>\n",
              "      <td>gaming</td>\n",
              "      <td>france</td>\n",
              "      <td>NaN</td>\n",
              "    </tr>\n",
              "    <tr>\n",
              "      <th>3</th>\n",
              "      <td>2025-05-02 00:00:00-04:00</td>\n",
              "      <td>71.500000</td>\n",
              "      <td>71.820000</td>\n",
              "      <td>71.099998</td>\n",
              "      <td>71.650002</td>\n",
              "      <td>12627600.0</td>\n",
              "      <td>0.0</td>\n",
              "      <td>0.0</td>\n",
              "      <td>the coca-cola company</td>\n",
              "      <td>KO</td>\n",
              "      <td>food &amp; beverage</td>\n",
              "      <td>usa</td>\n",
              "      <td>NaN</td>\n",
              "    </tr>\n",
              "    <tr>\n",
              "      <th>4</th>\n",
              "      <td>2025-05-02 00:00:00-04:00</td>\n",
              "      <td>1136.660034</td>\n",
              "      <td>1159.439941</td>\n",
              "      <td>1133.319946</td>\n",
              "      <td>1156.489990</td>\n",
              "      <td>3767900.0</td>\n",
              "      <td>0.0</td>\n",
              "      <td>0.0</td>\n",
              "      <td>netflix</td>\n",
              "      <td>NFLX</td>\n",
              "      <td>entertainment</td>\n",
              "      <td>usa</td>\n",
              "      <td>NaN</td>\n",
              "    </tr>\n",
              "  </tbody>\n",
              "</table>\n",
              "</div>\n",
              "    <div class=\"colab-df-buttons\">\n",
              "\n",
              "  <div class=\"colab-df-container\">\n",
              "    <button class=\"colab-df-convert\" onclick=\"convertToInteractive('df-72d45fc7-8686-473d-8b23-fb33b35de82a')\"\n",
              "            title=\"Convert this dataframe to an interactive table.\"\n",
              "            style=\"display:none;\">\n",
              "\n",
              "  <svg xmlns=\"http://www.w3.org/2000/svg\" height=\"24px\" viewBox=\"0 -960 960 960\">\n",
              "    <path d=\"M120-120v-720h720v720H120Zm60-500h600v-160H180v160Zm220 220h160v-160H400v160Zm0 220h160v-160H400v160ZM180-400h160v-160H180v160Zm440 0h160v-160H620v160ZM180-180h160v-160H180v160Zm440 0h160v-160H620v160Z\"/>\n",
              "  </svg>\n",
              "    </button>\n",
              "\n",
              "  <style>\n",
              "    .colab-df-container {\n",
              "      display:flex;\n",
              "      gap: 12px;\n",
              "    }\n",
              "\n",
              "    .colab-df-convert {\n",
              "      background-color: #E8F0FE;\n",
              "      border: none;\n",
              "      border-radius: 50%;\n",
              "      cursor: pointer;\n",
              "      display: none;\n",
              "      fill: #1967D2;\n",
              "      height: 32px;\n",
              "      padding: 0 0 0 0;\n",
              "      width: 32px;\n",
              "    }\n",
              "\n",
              "    .colab-df-convert:hover {\n",
              "      background-color: #E2EBFA;\n",
              "      box-shadow: 0px 1px 2px rgba(60, 64, 67, 0.3), 0px 1px 3px 1px rgba(60, 64, 67, 0.15);\n",
              "      fill: #174EA6;\n",
              "    }\n",
              "\n",
              "    .colab-df-buttons div {\n",
              "      margin-bottom: 4px;\n",
              "    }\n",
              "\n",
              "    [theme=dark] .colab-df-convert {\n",
              "      background-color: #3B4455;\n",
              "      fill: #D2E3FC;\n",
              "    }\n",
              "\n",
              "    [theme=dark] .colab-df-convert:hover {\n",
              "      background-color: #434B5C;\n",
              "      box-shadow: 0px 1px 3px 1px rgba(0, 0, 0, 0.15);\n",
              "      filter: drop-shadow(0px 1px 2px rgba(0, 0, 0, 0.3));\n",
              "      fill: #FFFFFF;\n",
              "    }\n",
              "  </style>\n",
              "\n",
              "    <script>\n",
              "      const buttonEl =\n",
              "        document.querySelector('#df-72d45fc7-8686-473d-8b23-fb33b35de82a button.colab-df-convert');\n",
              "      buttonEl.style.display =\n",
              "        google.colab.kernel.accessAllowed ? 'block' : 'none';\n",
              "\n",
              "      async function convertToInteractive(key) {\n",
              "        const element = document.querySelector('#df-72d45fc7-8686-473d-8b23-fb33b35de82a');\n",
              "        const dataTable =\n",
              "          await google.colab.kernel.invokeFunction('convertToInteractive',\n",
              "                                                    [key], {});\n",
              "        if (!dataTable) return;\n",
              "\n",
              "        const docLinkHtml = 'Like what you see? Visit the ' +\n",
              "          '<a target=\"_blank\" href=https://colab.research.google.com/notebooks/data_table.ipynb>data table notebook</a>'\n",
              "          + ' to learn more about interactive tables.';\n",
              "        element.innerHTML = '';\n",
              "        dataTable['output_type'] = 'display_data';\n",
              "        await google.colab.output.renderOutput(dataTable, element);\n",
              "        const docLink = document.createElement('div');\n",
              "        docLink.innerHTML = docLinkHtml;\n",
              "        element.appendChild(docLink);\n",
              "      }\n",
              "    </script>\n",
              "  </div>\n",
              "\n",
              "\n",
              "    <div id=\"df-b128f9c2-e3ad-4a4b-aa77-50a1d128826d\">\n",
              "      <button class=\"colab-df-quickchart\" onclick=\"quickchart('df-b128f9c2-e3ad-4a4b-aa77-50a1d128826d')\"\n",
              "                title=\"Suggest charts\"\n",
              "                style=\"display:none;\">\n",
              "\n",
              "<svg xmlns=\"http://www.w3.org/2000/svg\" height=\"24px\"viewBox=\"0 0 24 24\"\n",
              "     width=\"24px\">\n",
              "    <g>\n",
              "        <path d=\"M19 3H5c-1.1 0-2 .9-2 2v14c0 1.1.9 2 2 2h14c1.1 0 2-.9 2-2V5c0-1.1-.9-2-2-2zM9 17H7v-7h2v7zm4 0h-2V7h2v10zm4 0h-2v-4h2v4z\"/>\n",
              "    </g>\n",
              "</svg>\n",
              "      </button>\n",
              "\n",
              "<style>\n",
              "  .colab-df-quickchart {\n",
              "      --bg-color: #E8F0FE;\n",
              "      --fill-color: #1967D2;\n",
              "      --hover-bg-color: #E2EBFA;\n",
              "      --hover-fill-color: #174EA6;\n",
              "      --disabled-fill-color: #AAA;\n",
              "      --disabled-bg-color: #DDD;\n",
              "  }\n",
              "\n",
              "  [theme=dark] .colab-df-quickchart {\n",
              "      --bg-color: #3B4455;\n",
              "      --fill-color: #D2E3FC;\n",
              "      --hover-bg-color: #434B5C;\n",
              "      --hover-fill-color: #FFFFFF;\n",
              "      --disabled-bg-color: #3B4455;\n",
              "      --disabled-fill-color: #666;\n",
              "  }\n",
              "\n",
              "  .colab-df-quickchart {\n",
              "    background-color: var(--bg-color);\n",
              "    border: none;\n",
              "    border-radius: 50%;\n",
              "    cursor: pointer;\n",
              "    display: none;\n",
              "    fill: var(--fill-color);\n",
              "    height: 32px;\n",
              "    padding: 0;\n",
              "    width: 32px;\n",
              "  }\n",
              "\n",
              "  .colab-df-quickchart:hover {\n",
              "    background-color: var(--hover-bg-color);\n",
              "    box-shadow: 0 1px 2px rgba(60, 64, 67, 0.3), 0 1px 3px 1px rgba(60, 64, 67, 0.15);\n",
              "    fill: var(--button-hover-fill-color);\n",
              "  }\n",
              "\n",
              "  .colab-df-quickchart-complete:disabled,\n",
              "  .colab-df-quickchart-complete:disabled:hover {\n",
              "    background-color: var(--disabled-bg-color);\n",
              "    fill: var(--disabled-fill-color);\n",
              "    box-shadow: none;\n",
              "  }\n",
              "\n",
              "  .colab-df-spinner {\n",
              "    border: 2px solid var(--fill-color);\n",
              "    border-color: transparent;\n",
              "    border-bottom-color: var(--fill-color);\n",
              "    animation:\n",
              "      spin 1s steps(1) infinite;\n",
              "  }\n",
              "\n",
              "  @keyframes spin {\n",
              "    0% {\n",
              "      border-color: transparent;\n",
              "      border-bottom-color: var(--fill-color);\n",
              "      border-left-color: var(--fill-color);\n",
              "    }\n",
              "    20% {\n",
              "      border-color: transparent;\n",
              "      border-left-color: var(--fill-color);\n",
              "      border-top-color: var(--fill-color);\n",
              "    }\n",
              "    30% {\n",
              "      border-color: transparent;\n",
              "      border-left-color: var(--fill-color);\n",
              "      border-top-color: var(--fill-color);\n",
              "      border-right-color: var(--fill-color);\n",
              "    }\n",
              "    40% {\n",
              "      border-color: transparent;\n",
              "      border-right-color: var(--fill-color);\n",
              "      border-top-color: var(--fill-color);\n",
              "    }\n",
              "    60% {\n",
              "      border-color: transparent;\n",
              "      border-right-color: var(--fill-color);\n",
              "    }\n",
              "    80% {\n",
              "      border-color: transparent;\n",
              "      border-right-color: var(--fill-color);\n",
              "      border-bottom-color: var(--fill-color);\n",
              "    }\n",
              "    90% {\n",
              "      border-color: transparent;\n",
              "      border-bottom-color: var(--fill-color);\n",
              "    }\n",
              "  }\n",
              "</style>\n",
              "\n",
              "      <script>\n",
              "        async function quickchart(key) {\n",
              "          const quickchartButtonEl =\n",
              "            document.querySelector('#' + key + ' button');\n",
              "          quickchartButtonEl.disabled = true;  // To prevent multiple clicks.\n",
              "          quickchartButtonEl.classList.add('colab-df-spinner');\n",
              "          try {\n",
              "            const charts = await google.colab.kernel.invokeFunction(\n",
              "                'suggestCharts', [key], {});\n",
              "          } catch (error) {\n",
              "            console.error('Error during call to suggestCharts:', error);\n",
              "          }\n",
              "          quickchartButtonEl.classList.remove('colab-df-spinner');\n",
              "          quickchartButtonEl.classList.add('colab-df-quickchart-complete');\n",
              "        }\n",
              "        (() => {\n",
              "          let quickchartButtonEl =\n",
              "            document.querySelector('#df-b128f9c2-e3ad-4a4b-aa77-50a1d128826d button');\n",
              "          quickchartButtonEl.style.display =\n",
              "            google.colab.kernel.accessAllowed ? 'block' : 'none';\n",
              "        })();\n",
              "      </script>\n",
              "    </div>\n",
              "\n",
              "    </div>\n",
              "  </div>\n"
            ],
            "application/vnd.google.colaboratory.intrinsic+json": {
              "type": "dataframe",
              "variable_name": "data"
            }
          },
          "metadata": {},
          "execution_count": 3
        }
      ],
      "source": [
        "data.head(5)"
      ]
    },
    {
      "cell_type": "code",
      "execution_count": 4,
      "metadata": {
        "colab": {
          "base_uri": "https://localhost:8080/"
        },
        "execution": {
          "iopub.execute_input": "2025-05-05T06:27:10.22009Z",
          "iopub.status.busy": "2025-05-05T06:27:10.219393Z",
          "iopub.status.idle": "2025-05-05T06:27:10.313425Z",
          "shell.execute_reply": "2025-05-05T06:27:10.312692Z",
          "shell.execute_reply.started": "2025-05-05T06:27:10.220062Z"
        },
        "id": "rvcqT-PdfaL1",
        "outputId": "4e2a52e6-4438-4f37-a31f-e4c942ddb21b",
        "trusted": true
      },
      "outputs": [
        {
          "output_type": "stream",
          "name": "stdout",
          "text": [
            "\n",
            "Dataset After Cleaning:\n",
            "                                  Open         High          Low        Close  \\\n",
            "Date                                                                            \n",
            "2025-05-02 04:00:00+00:00     7.000000     7.025000     6.810000     6.820000   \n",
            "2025-05-02 04:00:00+00:00    98.400002    99.879997    98.300003    98.800003   \n",
            "2025-05-02 04:00:00+00:00     2.450000     2.470000     2.440000     2.470000   \n",
            "2025-05-02 04:00:00+00:00    71.500000    71.820000    71.099998    71.650002   \n",
            "2025-05-02 04:00:00+00:00  1136.660034  1159.439941  1133.319946  1156.489990   \n",
            "\n",
            "                               Volume  Dividends  Stock Splits  \\\n",
            "Date                                                             \n",
            "2025-05-02 04:00:00+00:00   9150276.0        0.0           0.0   \n",
            "2025-05-02 04:00:00+00:00  29879800.0        0.0           0.0   \n",
            "2025-05-02 04:00:00+00:00    216600.0        0.0           0.0   \n",
            "2025-05-02 04:00:00+00:00  12627600.0        0.0           0.0   \n",
            "2025-05-02 04:00:00+00:00   3767900.0        0.0           0.0   \n",
            "\n",
            "                                      Brand_Name Ticker     Industry_Tag  \\\n",
            "Date                                                                       \n",
            "2025-05-02 04:00:00+00:00                peloton   PTON          fitness   \n",
            "2025-05-02 04:00:00+00:00                    amd    AMD       technology   \n",
            "2025-05-02 04:00:00+00:00                ubisoft  UBSFY           gaming   \n",
            "2025-05-02 04:00:00+00:00  the coca-cola company     KO  food & beverage   \n",
            "2025-05-02 04:00:00+00:00                netflix   NFLX    entertainment   \n",
            "\n",
            "                          Country  Capital Gains  \n",
            "Date                                              \n",
            "2025-05-02 04:00:00+00:00     usa            NaN  \n",
            "2025-05-02 04:00:00+00:00     usa            NaN  \n",
            "2025-05-02 04:00:00+00:00  france            NaN  \n",
            "2025-05-02 04:00:00+00:00     usa            NaN  \n",
            "2025-05-02 04:00:00+00:00     usa            NaN  \n"
          ]
        }
      ],
      "source": [
        "try:\n",
        "    data['Date'] = pd.to_datetime(data['Date'], utc=True)\n",
        "except Exception as e:\n",
        "    print(\"Error converting 'Date' column:\", e)\n",
        "\n",
        "data.set_index('Date', inplace=True)\n",
        "\n",
        "print(\"\\nDataset After Cleaning:\")\n",
        "print(data.head())"
      ]
    },
    {
      "cell_type": "code",
      "execution_count": 5,
      "metadata": {
        "colab": {
          "base_uri": "https://localhost:8080/",
          "height": 460
        },
        "execution": {
          "iopub.execute_input": "2025-05-05T06:27:39.815481Z",
          "iopub.status.busy": "2025-05-05T06:27:39.814781Z",
          "iopub.status.idle": "2025-05-05T06:27:39.888276Z",
          "shell.execute_reply": "2025-05-05T06:27:39.887624Z",
          "shell.execute_reply.started": "2025-05-05T06:27:39.815457Z"
        },
        "id": "hc1B-_ZBfaL2",
        "outputId": "1c14e04e-7694-483d-8852-9dfcac3b2e54",
        "trusted": true
      },
      "outputs": [
        {
          "output_type": "execute_result",
          "data": {
            "text/plain": [
              "Open                  0\n",
              "High                  0\n",
              "Low                   0\n",
              "Close                 0\n",
              "Volume                0\n",
              "Dividends             0\n",
              "Stock Splits          0\n",
              "Brand_Name            0\n",
              "Ticker                0\n",
              "Industry_Tag          0\n",
              "Country               0\n",
              "Capital Gains    307373\n",
              "dtype: int64"
            ],
            "text/html": [
              "<div>\n",
              "<style scoped>\n",
              "    .dataframe tbody tr th:only-of-type {\n",
              "        vertical-align: middle;\n",
              "    }\n",
              "\n",
              "    .dataframe tbody tr th {\n",
              "        vertical-align: top;\n",
              "    }\n",
              "\n",
              "    .dataframe thead th {\n",
              "        text-align: right;\n",
              "    }\n",
              "</style>\n",
              "<table border=\"1\" class=\"dataframe\">\n",
              "  <thead>\n",
              "    <tr style=\"text-align: right;\">\n",
              "      <th></th>\n",
              "      <th>0</th>\n",
              "    </tr>\n",
              "  </thead>\n",
              "  <tbody>\n",
              "    <tr>\n",
              "      <th>Open</th>\n",
              "      <td>0</td>\n",
              "    </tr>\n",
              "    <tr>\n",
              "      <th>High</th>\n",
              "      <td>0</td>\n",
              "    </tr>\n",
              "    <tr>\n",
              "      <th>Low</th>\n",
              "      <td>0</td>\n",
              "    </tr>\n",
              "    <tr>\n",
              "      <th>Close</th>\n",
              "      <td>0</td>\n",
              "    </tr>\n",
              "    <tr>\n",
              "      <th>Volume</th>\n",
              "      <td>0</td>\n",
              "    </tr>\n",
              "    <tr>\n",
              "      <th>Dividends</th>\n",
              "      <td>0</td>\n",
              "    </tr>\n",
              "    <tr>\n",
              "      <th>Stock Splits</th>\n",
              "      <td>0</td>\n",
              "    </tr>\n",
              "    <tr>\n",
              "      <th>Brand_Name</th>\n",
              "      <td>0</td>\n",
              "    </tr>\n",
              "    <tr>\n",
              "      <th>Ticker</th>\n",
              "      <td>0</td>\n",
              "    </tr>\n",
              "    <tr>\n",
              "      <th>Industry_Tag</th>\n",
              "      <td>0</td>\n",
              "    </tr>\n",
              "    <tr>\n",
              "      <th>Country</th>\n",
              "      <td>0</td>\n",
              "    </tr>\n",
              "    <tr>\n",
              "      <th>Capital Gains</th>\n",
              "      <td>307373</td>\n",
              "    </tr>\n",
              "  </tbody>\n",
              "</table>\n",
              "</div><br><label><b>dtype:</b> int64</label>"
            ]
          },
          "metadata": {},
          "execution_count": 5
        }
      ],
      "source": [
        "data.isnull().sum()"
      ]
    },
    {
      "cell_type": "code",
      "execution_count": 6,
      "metadata": {
        "colab": {
          "base_uri": "https://localhost:8080/"
        },
        "execution": {
          "iopub.execute_input": "2025-05-05T06:27:48.763327Z",
          "iopub.status.busy": "2025-05-05T06:27:48.762695Z",
          "iopub.status.idle": "2025-05-05T06:27:48.974473Z",
          "shell.execute_reply": "2025-05-05T06:27:48.973798Z",
          "shell.execute_reply.started": "2025-05-05T06:27:48.763302Z"
        },
        "id": "TUrb4oWSfaL2",
        "outputId": "b01fd544-c698-4116-95d0-d97006777673",
        "trusted": true
      },
      "outputs": [
        {
          "output_type": "stream",
          "name": "stdout",
          "text": [
            "\n",
            "Infinite Values:\n",
            "Open             0\n",
            "High             0\n",
            "Low              0\n",
            "Close            0\n",
            "Volume           0\n",
            "Dividends        0\n",
            "Stock Splits     0\n",
            "Brand_Name       0\n",
            "Ticker           0\n",
            "Industry_Tag     0\n",
            "Country          0\n",
            "Capital Gains    0\n",
            "dtype: int64\n",
            "Open             0\n",
            "High             0\n",
            "Low              0\n",
            "Close            0\n",
            "Volume           0\n",
            "Dividends        0\n",
            "Stock Splits     0\n",
            "Brand_Name       0\n",
            "Ticker           0\n",
            "Industry_Tag     0\n",
            "Country          0\n",
            "Capital Gains    0\n",
            "dtype: int64\n"
          ]
        }
      ],
      "source": [
        "print(\"\\nInfinite Values:\")\n",
        "print((data == float('inf')).sum())\n",
        "print((data == float('-inf')).sum())"
      ]
    },
    {
      "cell_type": "markdown",
      "metadata": {
        "id": "rzGo4R7SfaL2"
      },
      "source": [
        "## **Filter Data for a Specific Brand**"
      ]
    },
    {
      "cell_type": "code",
      "execution_count": 7,
      "metadata": {
        "colab": {
          "base_uri": "https://localhost:8080/",
          "height": 1000
        },
        "execution": {
          "iopub.execute_input": "2025-05-05T06:28:40.466017Z",
          "iopub.status.busy": "2025-05-05T06:28:40.465651Z",
          "iopub.status.idle": "2025-05-05T06:28:40.884271Z",
          "shell.execute_reply": "2025-05-05T06:28:40.883298Z",
          "shell.execute_reply.started": "2025-05-05T06:28:40.46599Z"
        },
        "id": "a326KAmCfaL2",
        "outputId": "1251e21e-eef0-4b22-9455-7f4a1e496833",
        "trusted": true
      },
      "outputs": [
        {
          "output_type": "stream",
          "name": "stdout",
          "text": [
            "\n",
            "Filtered Data for Apple Inc.:\n",
            "                                 Open        High         Low       Close  \\\n",
            "Date                                                                        \n",
            "2025-05-02 04:00:00+00:00  206.089996  206.990005  202.160004  205.350006   \n",
            "2025-05-02 04:00:00+00:00  206.089996  206.990005  202.160004  205.350006   \n",
            "2025-05-01 04:00:00+00:00  209.080002  214.559998  208.899994  213.320007   \n",
            "2025-04-30 04:00:00+00:00  209.300003  213.580002  206.669998  212.500000   \n",
            "2025-04-29 04:00:00+00:00  208.690002  212.240005  208.369995  211.210007   \n",
            "\n",
            "                                Volume  Dividends  Stock Splits Brand_Name  \\\n",
            "Date                                                                         \n",
            "2025-05-02 04:00:00+00:00  100912500.0        0.0           0.0      apple   \n",
            "2025-05-02 04:00:00+00:00   99699111.0        0.0           0.0      apple   \n",
            "2025-05-01 04:00:00+00:00   56391200.0        0.0           0.0      apple   \n",
            "2025-04-30 04:00:00+00:00   51661400.0        0.0           0.0      apple   \n",
            "2025-04-29 04:00:00+00:00   36786900.0        0.0           0.0      apple   \n",
            "\n",
            "                          Ticker Industry_Tag Country  Capital Gains  \n",
            "Date                                                                  \n",
            "2025-05-02 04:00:00+00:00   AAPL   technology     usa            NaN  \n",
            "2025-05-02 04:00:00+00:00   AAPL   technology     usa            NaN  \n",
            "2025-05-01 04:00:00+00:00   AAPL   technology     usa            NaN  \n",
            "2025-04-30 04:00:00+00:00   AAPL   technology     usa            NaN  \n",
            "2025-04-29 04:00:00+00:00   AAPL   technology     usa            NaN  \n",
            "\n",
            "Filtered Data Info:\n",
            "<class 'pandas.core.frame.DataFrame'>\n",
            "DatetimeIndex: 6423 entries, 2025-05-02 04:00:00+00:00 to 2000-01-03 05:00:00+00:00\n",
            "Data columns (total 12 columns):\n",
            " #   Column         Non-Null Count  Dtype  \n",
            "---  ------         --------------  -----  \n",
            " 0   Open           6423 non-null   float64\n",
            " 1   High           6423 non-null   float64\n",
            " 2   Low            6423 non-null   float64\n",
            " 3   Close          6423 non-null   float64\n",
            " 4   Volume         6423 non-null   float64\n",
            " 5   Dividends      6423 non-null   float64\n",
            " 6   Stock Splits   6423 non-null   float64\n",
            " 7   Brand_Name     6423 non-null   object \n",
            " 8   Ticker         6423 non-null   object \n",
            " 9   Industry_Tag   6423 non-null   object \n",
            " 10  Country        6423 non-null   object \n",
            " 11  Capital Gains  0 non-null      float64\n",
            "dtypes: float64(8), object(4)\n",
            "memory usage: 652.3+ KB\n",
            "None\n"
          ]
        },
        {
          "output_type": "display_data",
          "data": {
            "text/plain": [
              "<Figure size 1000x600 with 1 Axes>"
            ],
            "image/png": "[encoded data removed]"
          },
          "metadata": {}
        }
      ],
      "source": [
        "brand_name = \"Apple Inc.\"\n",
        "ticker = \"AAPL\"\n",
        "\n",
        "apple_data = data[data['Ticker'] == ticker].copy()\n",
        "\n",
        "print(\"\\nFiltered Data for Apple Inc.:\")\n",
        "print(apple_data.head())\n",
        "\n",
        "print(\"\\nFiltered Data Info:\")\n",
        "print(apple_data.info())\n",
        "\n",
        "plt.figure(figsize=(10, 6))\n",
        "plt.plot(apple_data.index, apple_data['Close'], label=f'{brand_name} Closing Price', color='blue')\n",
        "plt.title(f'{brand_name} Stock Price Over Time')\n",
        "plt.xlabel('Date')\n",
        "plt.ylabel('Closing Price')\n",
        "plt.legend()\n",
        "plt.show()"
      ]
    },
    {
      "cell_type": "markdown",
      "metadata": {
        "id": "nV7PjFmnfaL2"
      },
      "source": [
        "## **Preprocess the Data**"
      ]
    },
    {
      "cell_type": "code",
      "execution_count": 8,
      "metadata": {
        "colab": {
          "base_uri": "https://localhost:8080/"
        },
        "execution": {
          "iopub.execute_input": "2025-05-05T06:29:34.255691Z",
          "iopub.status.busy": "2025-05-05T06:29:34.2554Z",
          "iopub.status.idle": "2025-05-05T06:29:34.262661Z",
          "shell.execute_reply": "2025-05-05T06:29:34.261954Z",
          "shell.execute_reply.started": "2025-05-05T06:29:34.255668Z"
        },
        "id": "0MdOEfcPfaL2",
        "outputId": "b59a90bd-e854-4f4e-8869-d17696f75fb3",
        "trusted": true
      },
      "outputs": [
        {
          "output_type": "stream",
          "name": "stdout",
          "text": [
            "\n",
            "Data Types:\n",
            "Open             float64\n",
            "High             float64\n",
            "Low              float64\n",
            "Close            float64\n",
            "Volume           float64\n",
            "Dividends        float64\n",
            "Stock Splits     float64\n",
            "Brand_Name        object\n",
            "Ticker            object\n",
            "Industry_Tag      object\n",
            "Country           object\n",
            "Capital Gains    float64\n",
            "dtype: object\n",
            "\n",
            "Non-Numeric Columns: Index(['Brand_Name', 'Ticker', 'Industry_Tag', 'Country'], dtype='object')\n"
          ]
        }
      ],
      "source": [
        "print(\"\\nData Types:\")\n",
        "print(apple_data.dtypes)\n",
        "\n",
        "non_numeric_cols = apple_data.select_dtypes(exclude=['number']).columns\n",
        "print(\"\\nNon-Numeric Columns:\", non_numeric_cols)"
      ]
    },
    {
      "cell_type": "code",
      "execution_count": 9,
      "metadata": {
        "colab": {
          "base_uri": "https://localhost:8080/"
        },
        "execution": {
          "iopub.execute_input": "2025-05-05T06:29:52.897497Z",
          "iopub.status.busy": "2025-05-05T06:29:52.897232Z",
          "iopub.status.idle": "2025-05-05T06:29:52.902648Z",
          "shell.execute_reply": "2025-05-05T06:29:52.901868Z",
          "shell.execute_reply.started": "2025-05-05T06:29:52.897479Z"
        },
        "id": "bEp22Y6ZfaL2",
        "outputId": "da2aae61-4db1-452a-8c0a-8db7b0da09b8",
        "trusted": true
      },
      "outputs": [
        {
          "output_type": "stream",
          "name": "stdout",
          "text": [
            "\n",
            "Columns After Dropping Non-Numeric Data:\n",
            "Index(['Open', 'High', 'Low', 'Close', 'Volume', 'Dividends', 'Stock Splits',\n",
            "       'Capital Gains'],\n",
            "      dtype='object')\n"
          ]
        }
      ],
      "source": [
        "apple_data = apple_data.select_dtypes(include='number')\n",
        "\n",
        "print(\"\\nColumns After Dropping Non-Numeric Data:\")\n",
        "print(apple_data.columns)"
      ]
    },
    {
      "cell_type": "code",
      "execution_count": 10,
      "metadata": {
        "colab": {
          "base_uri": "https://localhost:8080/"
        },
        "execution": {
          "iopub.execute_input": "2025-05-05T06:30:08.323383Z",
          "iopub.status.busy": "2025-05-05T06:30:08.322836Z",
          "iopub.status.idle": "2025-05-05T06:30:08.344067Z",
          "shell.execute_reply": "2025-05-05T06:30:08.343313Z",
          "shell.execute_reply.started": "2025-05-05T06:30:08.323357Z"
        },
        "id": "JOMLh3mKfaL2",
        "outputId": "96463b19-9f72-437d-9076-ef607f0219c2",
        "trusted": true
      },
      "outputs": [
        {
          "output_type": "stream",
          "name": "stdout",
          "text": [
            "\n",
            "Resampled Data:\n",
            "                               Open      High       Low     Close  \\\n",
            "Date                                                                \n",
            "2000-01-03 00:00:00+00:00  0.794800  0.852586  0.770643  0.848323   \n",
            "2000-01-04 00:00:00+00:00  0.820377  0.838376  0.766854  0.776801   \n",
            "2000-01-05 00:00:00+00:00  0.786273  0.837902  0.780590  0.788168   \n",
            "2000-01-06 00:00:00+00:00  0.804273  0.810904  0.719961  0.719961   \n",
            "2000-01-07 00:00:00+00:00  0.731329  0.765433  0.723751  0.754065   \n",
            "\n",
            "                                Volume  Dividends  Stock Splits  Capital Gains  \n",
            "Date                                                                            \n",
            "2000-01-03 00:00:00+00:00  535796800.0        0.0           0.0            NaN  \n",
            "2000-01-04 00:00:00+00:00  512377600.0        0.0           0.0            NaN  \n",
            "2000-01-05 00:00:00+00:00  778321600.0        0.0           0.0            NaN  \n",
            "2000-01-06 00:00:00+00:00  767972800.0        0.0           0.0            NaN  \n",
            "2000-01-07 00:00:00+00:00  460734400.0        0.0           0.0            NaN  \n"
          ]
        }
      ],
      "source": [
        "apple_data_resampled = apple_data.resample('D').mean()\n",
        "\n",
        "print(\"\\nResampled Data:\")\n",
        "print(apple_data_resampled.head())"
      ]
    },
    {
      "cell_type": "code",
      "execution_count": 11,
      "metadata": {
        "colab": {
          "base_uri": "https://localhost:8080/",
          "height": 539
        },
        "execution": {
          "iopub.execute_input": "2025-05-05T06:31:46.075113Z",
          "iopub.status.busy": "2025-05-05T06:31:46.074573Z",
          "iopub.status.idle": "2025-05-05T06:31:47.665235Z",
          "shell.execute_reply": "2025-05-05T06:31:47.664297Z",
          "shell.execute_reply.started": "2025-05-05T06:31:46.075082Z"
        },
        "id": "Ds2JrfCHfaL2",
        "outputId": "b853c81d-f296-4f16-c919-0cd5a0dda84f",
        "trusted": true
      },
      "outputs": [
        {
          "output_type": "stream",
          "name": "stdout",
          "text": [
            "\n",
            "Missing Values in 'Close' After Handling:\n",
            "0\n"
          ]
        },
        {
          "output_type": "display_data",
          "data": {
            "text/plain": [
              "<Figure size 640x480 with 4 Axes>"
            ],
            "image/png": "[encoded data removed]"
          },
          "metadata": {}
        }
      ],
      "source": [
        "apple_data = apple_data.ffill()\n",
        "apple_data = apple_data.bfill()\n",
        "\n",
        "apple_data = apple_data.select_dtypes(include='number')\n",
        "\n",
        "apple_data_resampled = apple_data.resample('D').mean()\n",
        "\n",
        "apple_data_resampled = apple_data_resampled.interpolate(method='linear')\n",
        "\n",
        "print(\"\\nMissing Values in 'Close' After Handling:\")\n",
        "print(apple_data_resampled['Close'].isnull().sum())\n",
        "\n",
        "decomposition = seasonal_decompose(apple_data_resampled['Close'], model='additive', period=30)\n",
        "\n",
        "decomposition.plot()\n",
        "plt.show()"
      ]
    },
    {
      "cell_type": "markdown",
      "metadata": {
        "id": "-g8HlxUffaL2"
      },
      "source": [
        "## **Split the Data**\n",
        "Divide the data into training and testing sets. Use 80% for training and 20% for testing."
      ]
    },
    {
      "cell_type": "code",
      "execution_count": 12,
      "metadata": {
        "colab": {
          "base_uri": "https://localhost:8080/"
        },
        "execution": {
          "iopub.execute_input": "2025-05-05T06:32:40.345526Z",
          "iopub.status.busy": "2025-05-05T06:32:40.344924Z",
          "iopub.status.idle": "2025-05-05T06:32:40.350384Z",
          "shell.execute_reply": "2025-05-05T06:32:40.34968Z",
          "shell.execute_reply.started": "2025-05-05T06:32:40.345504Z"
        },
        "id": "d6yPa5MofaL2",
        "outputId": "cd0d93e4-5ae1-4f2d-f2f0-c9331ed65dd5",
        "trusted": true
      },
      "outputs": [
        {
          "output_type": "stream",
          "name": "stdout",
          "text": [
            "\n",
            "Training set size: 5138\n",
            "Testing set size: 1285\n"
          ]
        }
      ],
      "source": [
        "train = apple_data[:int(0.8 * len(apple_data))]\n",
        "test = apple_data[int(0.8 * len(apple_data)):]\n",
        "\n",
        "print(f\"\\nTraining set size: {len(train)}\")\n",
        "print(f\"Testing set size: {len(test)}\")"
      ]
    },
    {
      "cell_type": "markdown",
      "metadata": {
        "id": "9BnKTUOMfaL3"
      },
      "source": [
        "## **Build and Train the Model**"
      ]
    },
    {
      "cell_type": "code",
      "execution_count": 13,
      "metadata": {
        "colab": {
          "base_uri": "https://localhost:8080/"
        },
        "execution": {
          "iopub.execute_input": "2025-05-05T06:33:28.740507Z",
          "iopub.status.busy": "2025-05-05T06:33:28.740225Z",
          "iopub.status.idle": "2025-05-05T06:33:30.233704Z",
          "shell.execute_reply": "2025-05-05T06:33:30.233013Z",
          "shell.execute_reply.started": "2025-05-05T06:33:28.740487Z"
        },
        "id": "hXtg4PwCfaL3",
        "outputId": "40e4bf4e-bce7-49aa-f04f-3c9bd2861b13",
        "trusted": true
      },
      "outputs": [
        {
          "output_type": "stream",
          "name": "stdout",
          "text": [
            "                                     SARIMAX Results                                      \n",
            "==========================================================================================\n",
            "Dep. Variable:                              Close   No. Observations:                 5138\n",
            "Model:             SARIMAX(5, 1, 0)x(0, 1, 0, 12)   Log Likelihood              -11324.989\n",
            "Date:                            Sun, 11 May 2025   AIC                          22661.978\n",
            "Time:                                    18:42:28   BIC                          22701.230\n",
            "Sample:                                         0   HQIC                         22675.718\n",
            "                                           - 5138                                         \n",
            "Covariance Type:                              opg                                         \n",
            "==============================================================================\n",
            "                 coef    std err          z      P>|z|      [0.025      0.975]\n",
            "------------------------------------------------------------------------------\n",
            "ar.L1         -0.0284      0.005     -5.399      0.000      -0.039      -0.018\n",
            "ar.L2          0.0351      0.006      5.619      0.000       0.023       0.047\n",
            "ar.L3         -0.0318      0.006     -5.560      0.000      -0.043      -0.021\n",
            "ar.L4         -0.0394      0.006     -6.697      0.000      -0.051      -0.028\n",
            "ar.L5          0.0285      0.007      4.097      0.000       0.015       0.042\n",
            "sigma2         4.8628      0.033    148.044      0.000       4.798       4.927\n",
            "===================================================================================\n",
            "Ljung-Box (L1) (Q):                   0.01   Jarque-Bera (JB):             70327.98\n",
            "Prob(Q):                              0.94   Prob(JB):                         0.00\n",
            "Heteroskedasticity (H):               0.00   Skew:                             0.12\n",
            "Prob(H) (two-sided):                  0.00   Kurtosis:                        21.15\n",
            "===================================================================================\n",
            "\n",
            "Warnings:\n",
            "[1] Covariance matrix calculated using the outer product of gradients (complex-step).\n"
          ]
        }
      ],
      "source": [
        "model = SARIMAX(train['Close'], order=(5, 1, 0), seasonal_order=(0, 1, 0, 12))\n",
        "model_fit = model.fit()\n",
        "\n",
        "print(model_fit.summary())"
      ]
    },
    {
      "cell_type": "markdown",
      "metadata": {
        "id": "Ilk3EWk3faL3"
      },
      "source": [
        "## **Evaluate the Model**"
      ]
    },
    {
      "cell_type": "code",
      "execution_count": 14,
      "metadata": {
        "colab": {
          "base_uri": "https://localhost:8080/"
        },
        "execution": {
          "iopub.execute_input": "2025-05-05T06:33:46.134104Z",
          "iopub.status.busy": "2025-05-05T06:33:46.133412Z",
          "iopub.status.idle": "2025-05-05T06:33:46.311543Z",
          "shell.execute_reply": "2025-05-05T06:33:46.310742Z",
          "shell.execute_reply.started": "2025-05-05T06:33:46.134077Z"
        },
        "id": "woxF2adtfaL3",
        "outputId": "1f8f3557-20ee-4339-fa9e-10c2435f75e5",
        "trusted": true
      },
      "outputs": [
        {
          "output_type": "stream",
          "name": "stdout",
          "text": [
            "\n",
            "Mean Absolute Error (MAE): 1.96\n",
            "Root Mean Squared Error (RMSE): 2.06\n"
          ]
        }
      ],
      "source": [
        "from sklearn.metrics import mean_absolute_error, mean_squared_error\n",
        "import numpy as np\n",
        "\n",
        "predicted_mean = model_fit.forecast(steps=len(test))\n",
        "\n",
        "mae = mean_absolute_error(test['Close'], predicted_mean)\n",
        "rmse = np.sqrt(mean_squared_error(test['Close'], predicted_mean))\n",
        "\n",
        "print(f\"\\nMean Absolute Error (MAE): {mae:.2f}\")\n",
        "print(f\"Root Mean Squared Error (RMSE): {rmse:.2f}\")"
      ]
    },
    {
      "cell_type": "code",
      "source": [
        "results_df = pd.DataFrame({\n",
        "    'Date': test.index,\n",
        "    'Actual': test['Close'].values,\n",
        "    'Predicted': predicted_mean\n",
        "})\n",
        "print(\"\\nForecasted Results:\\n\")\n",
        "print(results_df.head(10))"
      ],
      "metadata": {
        "colab": {
          "base_uri": "https://localhost:8080/"
        },
        "id": "YLXYFjMKnZFc",
        "outputId": "0c60a727-c33c-4151-bff0-58d3921feef5"
      },
      "execution_count": 15,
      "outputs": [
        {
          "output_type": "stream",
          "name": "stdout",
          "text": [
            "\n",
            "Forecasted Results:\n",
            "\n",
            "                          Date    Actual  Predicted\n",
            "5138 2005-02-11 05:00:00+00:00  1.230907   1.356048\n",
            "5139 2005-02-10 05:00:00+00:00  1.187709   1.368132\n",
            "5140 2005-02-09 05:00:00+00:00  1.193468   1.380146\n",
            "5141 2005-02-08 05:00:00+00:00  1.226208   1.369231\n",
            "5142 2005-02-07 05:00:00+00:00  1.196500   1.367483\n",
            "5143 2005-02-04 05:00:00+00:00  1.194984   1.356920\n",
            "5144 2005-02-03 05:00:00+00:00  1.179372   1.312296\n",
            "5145 2005-02-02 05:00:00+00:00  1.206958   1.335390\n",
            "5146 2005-02-01 05:00:00+00:00  1.175128   1.350579\n",
            "5147 2005-01-31 05:00:00+00:00  1.165579   1.385720\n"
          ]
        }
      ]
    },
    {
      "cell_type": "markdown",
      "metadata": {
        "id": "HEycGaxbfaL3"
      },
      "source": [
        "## **Visualize Results**"
      ]
    },
    {
      "cell_type": "code",
      "execution_count": 16,
      "metadata": {
        "colab": {
          "base_uri": "https://localhost:8080/",
          "height": 564
        },
        "execution": {
          "iopub.execute_input": "2025-05-05T06:34:56.543986Z",
          "iopub.status.busy": "2025-05-05T06:34:56.54324Z",
          "iopub.status.idle": "2025-05-05T06:34:56.819019Z",
          "shell.execute_reply": "2025-05-05T06:34:56.818227Z",
          "shell.execute_reply.started": "2025-05-05T06:34:56.543962Z"
        },
        "id": "zMqidy9yfaL3",
        "outputId": "03c97fe5-7283-4499-9035-58353930415a",
        "trusted": true
      },
      "outputs": [
        {
          "output_type": "display_data",
          "data": {
            "text/plain": [
              "<Figure size 1000x600 with 1 Axes>"
            ],
            "image/png": "[encoded data removed]"
          },
          "metadata": {}
        }
      ],
      "source": [
        "plt.figure(figsize=(10, 6))\n",
        "plt.plot(test.index, test['Close'], label='Actual', color='blue')\n",
        "plt.plot(test.index, predicted_mean, label='Predicted', color='orange', linestyle='--')\n",
        "plt.title(f'{brand_name} Stock Price Forecast')\n",
        "plt.xlabel('Date')\n",
        "plt.ylabel('Closing Price')\n",
        "plt.legend()\n",
        "plt.show()"
      ]
    },
    {
      "cell_type": "markdown",
      "metadata": {
        "id": "3key3SOwfaL4"
      },
      "source": [
        "In this project, we explored time series forecasting using the \"World Stock Prices (Daily Updating)\" dataset to predict Apple Inc. (AAPL) stock prices. Here are the key highlights:\n",
        "\n",
        "- **Data Preprocessing**: We handled missing values, resampled the data to daily frequency, and ensured the dataset was clean and ready for analysis.\n",
        "- **Statistical Modeling**: Using models like ARIMA and Prophet, we successfully forecasted future stock price trends and evaluated their performance with metrics like MAE and RMSE.\n",
        "\n"
      ]
    }
  ],
  "metadata": {
    "colab": {
      "provenance": []
    },
    "kaggle": {
      "accelerator": "none",
      "dataSources": [
        {
          "datasetId": 3711383,
          "sourceId": 11670664,
          "sourceType": "datasetVersion"
        }
      ],
      "dockerImageVersionId": 31012,
      "isGpuEnabled": false,
      "isInternetEnabled": true,
      "language": "python",
      "sourceType": "notebook"
    },
    "kernelspec": {
      "display_name": "Python 3",
      "language": "python",
      "name": "python3"
    },
    "language_info": {
      "codemirror_mode": {
        "name": "ipython",
        "version": 3
      },
      "file_extension": ".py",
      "mimetype": "text/x-python",
      "name": "python",
      "nbconvert_exporter": "python",
      "pygments_lexer": "ipython3",
      "version": "3.11.11"
    }
  },
  "nbformat": 4,
  "nbformat_minor": 0
}
