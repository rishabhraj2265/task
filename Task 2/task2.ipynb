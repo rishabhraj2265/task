{
  "nbformat": 4,
  "nbformat_minor": 0,
  "metadata": {
    "colab": {
      "provenance": []
    },
    "kernelspec": {
      "name": "python3",
      "display_name": "Python 3"
    },
    "language_info": {
      "name": "python"
    }
  },
  "cells": [
    {
      "cell_type": "markdown",
      "source": [
        "## Install Required Packages"
      ],
      "metadata": {
        "id": "lQYtrm-euxfi"
      }
    },
    {
      "cell_type": "code",
      "source": [
        "!pip install requests pandas\n"
      ],
      "metadata": {
        "colab": {
          "base_uri": "https://localhost:8080/"
        },
        "id": "DK_cm9SMEtiE",
        "outputId": "a2ac6ef1-dcdd-49e4-88b8-624730ae32e8"
      },
      "execution_count": null,
      "outputs": [
        {
          "output_type": "stream",
          "name": "stdout",
          "text": [
            "Requirement already satisfied: requests in /usr/local/lib/python3.11/dist-packages (2.32.3)\n",
            "Requirement already satisfied: pandas in /usr/local/lib/python3.11/dist-packages (2.2.2)\n",
            "Requirement already satisfied: charset-normalizer<4,>=2 in /usr/local/lib/python3.11/dist-packages (from requests) (3.4.2)\n",
            "Requirement already satisfied: idna<4,>=2.5 in /usr/local/lib/python3.11/dist-packages (from requests) (3.10)\n",
            "Requirement already satisfied: urllib3<3,>=1.21.1 in /usr/local/lib/python3.11/dist-packages (from requests) (2.4.0)\n",
            "Requirement already satisfied: certifi>=2017.4.17 in /usr/local/lib/python3.11/dist-packages (from requests) (2025.4.26)\n",
            "Requirement already satisfied: numpy>=1.23.2 in /usr/local/lib/python3.11/dist-packages (from pandas) (2.0.2)\n",
            "Requirement already satisfied: python-dateutil>=2.8.2 in /usr/local/lib/python3.11/dist-packages (from pandas) (2.9.0.post0)\n",
            "Requirement already satisfied: pytz>=2020.1 in /usr/local/lib/python3.11/dist-packages (from pandas) (2025.2)\n",
            "Requirement already satisfied: tzdata>=2022.7 in /usr/local/lib/python3.11/dist-packages (from pandas) (2025.2)\n",
            "Requirement already satisfied: six>=1.5 in /usr/local/lib/python3.11/dist-packages (from python-dateutil>=2.8.2->pandas) (1.17.0)\n"
          ]
        }
      ]
    },
    {
      "cell_type": "markdown",
      "source": [
        "## Import Libraries"
      ],
      "metadata": {
        "id": "w3D4nn6Zu3BY"
      }
    },
    {
      "cell_type": "code",
      "source": [
        "import requests\n",
        "import pandas as pd\n",
        "from datetime import datetime"
      ],
      "metadata": {
        "id": "8LZH6u3tvd8o"
      },
      "execution_count": null,
      "outputs": []
    },
    {
      "cell_type": "markdown",
      "source": [
        "## API Configuration"
      ],
      "metadata": {
        "id": "pW6ujfh9vgRo"
      }
    },
    {
      "cell_type": "code",
      "source": [
        "API_KEY = '1d32fa59494f31b5b5105d64c8d36498'\n",
        "CITY = 'Jaipur'\n",
        "BASE_URL = 'http://api.openweathermap.org/data/2.5/forecast'"
      ],
      "metadata": {
        "id": "yj7i2o2svlNr"
      },
      "execution_count": null,
      "outputs": []
    },
    {
      "cell_type": "markdown",
      "source": [
        "## Make API Request"
      ],
      "metadata": {
        "id": "228D6OzJv1hv"
      }
    },
    {
      "cell_type": "code",
      "source": [
        "params = {\n",
        "    'q': CITY,\n",
        "    'appid': API_KEY,\n",
        "    'units': 'metric'\n",
        "}\n",
        "\n",
        "response = requests.get(BASE_URL, params=params)\n",
        "data = response.json()\n",
        "\n",
        "if response.status_code != 200:\n",
        "    print(f\"Error: {data.get('message', 'Unknown error')}\")\n",
        "    exit()"
      ],
      "metadata": {
        "id": "wxd44KHuvxyr"
      },
      "execution_count": null,
      "outputs": []
    },
    {
      "cell_type": "markdown",
      "source": [
        "## Extract Data"
      ],
      "metadata": {
        "id": "KJZOlXqzv8pc"
      }
    },
    {
      "cell_type": "code",
      "source": [
        "forecasts = data['list']\n",
        "\n",
        "timestamps = []\n",
        "temperatures = []\n",
        "feels_like = []\n",
        "humidity = []\n",
        "wind_speed = []\n",
        "weather_desc = []\n",
        "rain_3h = []\n",
        "\n",
        "for forecast in forecasts:\n",
        "    timestamps.append(forecast['dt'])\n",
        "    temperatures.append(forecast['main']['temp'])\n",
        "    feels_like.append(forecast['main']['feels_like'])\n",
        "    humidity.append(forecast['main']['humidity'])\n",
        "    wind_speed.append(forecast['wind']['speed'])\n",
        "    weather_desc.append(forecast['weather'][0]['description'])\n",
        "    rain_3h.append(forecast.get('rain', {}).get('3h', 0))"
      ],
      "metadata": {
        "id": "ew3lIlPav6AL"
      },
      "execution_count": null,
      "outputs": []
    },
    {
      "cell_type": "markdown",
      "source": [
        "## Create and Clean DataFrame"
      ],
      "metadata": {
        "id": "S0VSPamiwM7i"
      }
    },
    {
      "cell_type": "code",
      "source": [
        "weather_df = pd.DataFrame({\n",
        "    'timestamp': timestamps,\n",
        "    'temperature': temperatures,\n",
        "    'feels_like': feels_like,\n",
        "    'humidity': humidity,\n",
        "    'wind_speed': wind_speed,\n",
        "    'weather_description': weather_desc,\n",
        "    'rain_3h': rain_3h\n",
        "})\n",
        "\n",
        "weather_df['datetime'] = pd.to_datetime(weather_df['timestamp'], unit='s')\n",
        "weather_df.set_index('datetime', inplace=True)\n",
        "weather_df.drop('timestamp', axis=1, inplace=True)\n",
        "\n",
        "weather_df['rain_3h'] = weather_df['rain_3h'].fillna(0)\n",
        "weather_df['weather_description'] = weather_df['weather_description'].str.lower().str.strip()\n",
        "\n",
        "temp_mask = (weather_df['temperature'] < -50) | (weather_df['temperature'] > 50)\n",
        "weather_df.loc[temp_mask, 'temperature'] = weather_df['temperature'].median()"
      ],
      "metadata": {
        "id": "PHw9dLWowJ-n"
      },
      "execution_count": null,
      "outputs": []
    },
    {
      "cell_type": "markdown",
      "source": [
        "## Summary"
      ],
      "metadata": {
        "id": "GL3q1ssJwqCA"
      }
    },
    {
      "cell_type": "code",
      "source": [
        "print(f\"Duplicate rows: {weather_df.duplicated().sum()}\")\n",
        "print(\"\\nData Types:\\n\", weather_df.dtypes)\n",
        "print(\"\\nSummary:\\n\", weather_df.describe())\n",
        "print(\"\\nSample:\\n\", weather_df.head())"
      ],
      "metadata": {
        "colab": {
          "base_uri": "https://localhost:8080/"
        },
        "id": "Wdt_4HkCwnTx",
        "outputId": "a4329134-15dd-410f-efcb-bb695423c8be"
      },
      "execution_count": null,
      "outputs": [
        {
          "output_type": "stream",
          "name": "stdout",
          "text": [
            "Duplicate rows: 0\n",
            "\n",
            "Data Types:\n",
            " temperature            float64\n",
            "feels_like             float64\n",
            "humidity                 int64\n",
            "wind_speed             float64\n",
            "weather_description     object\n",
            "rain_3h                  int64\n",
            "dtype: object\n",
            "\n",
            "Summary:\n",
            "        temperature  feels_like   humidity  wind_speed  rain_3h\n",
            "count    40.000000   40.000000  40.000000   40.000000     40.0\n",
            "mean     36.551500   35.156000  22.550000    5.420250      0.0\n",
            "std       3.930101    3.624348   7.472857    1.332925      0.0\n",
            "min      30.140000   29.130000  11.000000    1.070000      0.0\n",
            "25%      33.515000   32.235000  15.750000    4.640000      0.0\n",
            "50%      36.545000   34.545000  22.000000    5.705000      0.0\n",
            "75%      39.970000   38.415000  28.000000    6.482500      0.0\n",
            "max      42.810000   40.700000  36.000000    7.240000      0.0\n",
            "\n",
            "Sample:\n",
            "                      temperature  feels_like  humidity  wind_speed  \\\n",
            "datetime                                                             \n",
            "2025-05-14 09:00:00        40.15       37.95        14        5.21   \n",
            "2025-05-14 12:00:00        39.73       37.69        15        3.18   \n",
            "2025-05-14 15:00:00        37.56       35.72        18        1.07   \n",
            "2025-05-14 18:00:00        32.75       31.44        28        3.96   \n",
            "2025-05-14 21:00:00        31.54       30.31        30        4.52   \n",
            "\n",
            "                    weather_description  rain_3h  \n",
            "datetime                                          \n",
            "2025-05-14 09:00:00    scattered clouds        0  \n",
            "2025-05-14 12:00:00    scattered clouds        0  \n",
            "2025-05-14 15:00:00       broken clouds        0  \n",
            "2025-05-14 18:00:00    scattered clouds        0  \n",
            "2025-05-14 21:00:00           clear sky        0  \n"
          ]
        }
      ]
    },
    {
      "cell_type": "markdown",
      "source": [
        "Save Cleaned Data"
      ],
      "metadata": {
        "id": "Hemh6PVdw41l"
      }
    },
    {
      "cell_type": "code",
      "source": [
        "weather_df.to_csv('jaipur_weather_forecast_cleaned.csv')"
      ],
      "metadata": {
        "id": "B5_radoYlXYo"
      },
      "execution_count": null,
      "outputs": []
    }
  ]
}