{
  "nbformat": 4,
  "nbformat_minor": 0,
  "metadata": {
    "colab": {
      "provenance": []
    },
    "kernelspec": {
      "name": "python3",
      "display_name": "Python 3"
    },
    "language_info": {
      "name": "python"
    }
  },
  "cells": [
    {
      "cell_type": "code",
      "execution_count": null,
      "metadata": {
        "id": "AjrgvltRv4Y-",
        "colab": {
          "base_uri": "https://localhost:8080/"
        },
        "outputId": "7e91cdc1-12ee-4081-9659-2ab3b09c3f8d"
      },
      "outputs": [
        {
          "output_type": "stream",
          "name": "stdout",
          "text": [
            "Collecting scikit-surprise\n",
            "  Downloading scikit_surprise-1.1.4.tar.gz (154 kB)\n",
            "\u001b[?25l     \u001b[90m━━━━━━━━━━━━━━━━━━━━━━━━━━━━━━━━━━━━━━━━\u001b[0m \u001b[32m0.0/154.4 kB\u001b[0m \u001b[31m?\u001b[0m eta \u001b[36m-:--:--\u001b[0m\r\u001b[2K     \u001b[90m━━━━━━━━━━━━━━━━━━━━━━━━━━━━━━━━━━━━━━━\u001b[0m \u001b[32m154.4/154.4 kB\u001b[0m \u001b[31m5.2 MB/s\u001b[0m eta \u001b[36m0:00:00\u001b[0m\n",
            "\u001b[?25h  Installing build dependencies ... \u001b[?25l\u001b[?25hdone\n",
            "  Getting requirements to build wheel ... \u001b[?25l\u001b[?25hdone\n",
            "  Preparing metadata (pyproject.toml) ... \u001b[?25l\u001b[?25hdone\n",
            "Requirement already satisfied: joblib>=1.2.0 in /usr/local/lib/python3.11/dist-packages (from scikit-surprise) (1.4.2)\n",
            "Requirement already satisfied: numpy>=1.19.5 in /usr/local/lib/python3.11/dist-packages (from scikit-surprise) (1.24.4)\n",
            "Requirement already satisfied: scipy>=1.6.0 in /usr/local/lib/python3.11/dist-packages (from scikit-surprise) (1.15.2)\n",
            "Building wheels for collected packages: scikit-surprise\n",
            "  Building wheel for scikit-surprise (pyproject.toml) ... \u001b[?25l\u001b[?25hdone\n",
            "  Created wheel for scikit-surprise: filename=scikit_surprise-1.1.4-cp311-cp311-linux_x86_64.whl size=2461563 sha256=d8b066b3acb22ae80c808503b5ec4bc59b327b3b00738af985a781b572d4d249\n",
            "  Stored in directory: /root/.cache/pip/wheels/2a/8f/6e/7e2899163e2d85d8266daab4aa1cdabec7a6c56f83c015b5af\n",
            "Successfully built scikit-surprise\n",
            "Installing collected packages: scikit-surprise\n",
            "Successfully installed scikit-surprise-1.1.4\n",
            "Requirement already satisfied: numpy<2.0 in /usr/local/lib/python3.11/dist-packages (1.24.4)\n"
          ]
        }
      ],
      "source": [
        "!pip install scikit-surprise\n",
        "!pip install \"numpy<2.0\"\n"
      ]
    },
    {
      "cell_type": "code",
      "source": [
        "!pip install numpy==1.24.4 --force-reinstall --no-cache-dir\n"
      ],
      "metadata": {
        "colab": {
          "base_uri": "https://localhost:8080/",
          "height": 445
        },
        "id": "Dp2srohbyidI",
        "outputId": "7f5365ee-0e8d-40d0-9880-f2e959f1307a"
      },
      "execution_count": null,
      "outputs": [
        {
          "output_type": "stream",
          "name": "stdout",
          "text": [
            "Collecting numpy==1.24.4\n",
            "  Downloading numpy-1.24.4-cp311-cp311-manylinux_2_17_x86_64.manylinux2014_x86_64.whl.metadata (5.6 kB)\n",
            "Downloading numpy-1.24.4-cp311-cp311-manylinux_2_17_x86_64.manylinux2014_x86_64.whl (17.3 MB)\n",
            "\u001b[2K   \u001b[90m━━━━━━━━━━━━━━━━━━━━━━━━━━━━━━━━━━━━━━━━\u001b[0m \u001b[32m17.3/17.3 MB\u001b[0m \u001b[31m164.2 MB/s\u001b[0m eta \u001b[36m0:00:00\u001b[0m\n",
            "\u001b[?25hInstalling collected packages: numpy\n",
            "  Attempting uninstall: numpy\n",
            "    Found existing installation: numpy 2.0.2\n",
            "    Uninstalling numpy-2.0.2:\n",
            "      Successfully uninstalled numpy-2.0.2\n",
            "\u001b[31mERROR: pip's dependency resolver does not currently take into account all the packages that are installed. This behaviour is the source of the following dependency conflicts.\n",
            "treescope 0.1.9 requires numpy>=1.25.2, but you have numpy 1.24.4 which is incompatible.\n",
            "pymc 5.22.0 requires numpy>=1.25.0, but you have numpy 1.24.4 which is incompatible.\n",
            "jax 0.5.2 requires numpy>=1.25, but you have numpy 1.24.4 which is incompatible.\n",
            "tensorflow 2.18.0 requires numpy<2.1.0,>=1.26.0, but you have numpy 1.24.4 which is incompatible.\n",
            "blosc2 3.3.2 requires numpy>=1.26, but you have numpy 1.24.4 which is incompatible.\n",
            "thinc 8.3.6 requires numpy<3.0.0,>=2.0.0, but you have numpy 1.24.4 which is incompatible.\n",
            "jaxlib 0.5.1 requires numpy>=1.25, but you have numpy 1.24.4 which is incompatible.\u001b[0m\u001b[31m\n",
            "\u001b[0mSuccessfully installed numpy-1.24.4\n"
          ]
        },
        {
          "output_type": "display_data",
          "data": {
            "application/vnd.colab-display-data+json": {
              "pip_warning": {
                "packages": [
                  "numpy"
                ]
              },
              "id": "094fe515bb4b45508a63693df6d6ace1"
            }
          },
          "metadata": {}
        }
      ]
    },
    {
      "cell_type": "code",
      "source": [
        "import pandas as pd\n",
        "import numpy as np\n",
        "from surprise import SVD, Dataset, Reader\n",
        "from sklearn.metrics.pairwise import cosine_similarity\n"
      ],
      "metadata": {
        "id": "912hyIZZx4M7"
      },
      "execution_count": null,
      "outputs": []
    },
    {
      "cell_type": "code",
      "source": [
        "books = pd.read_csv('/BX_Books.csv', sep=';', encoding='latin-1', on_bad_lines='skip', low_memory=False)\n",
        "ratings = pd.read_csv('/BX-Book-Ratings.csv', sep=';', encoding='latin-1', on_bad_lines='skip')\n",
        "\n",
        "books.columns = ['ISBN', 'Book-Title', 'Book-Author', 'Year-Of-Publication', 'Publisher', 'Image-URL-S', 'Image-URL-M', 'Image-URL-L']\n",
        "ratings.columns = ['User-ID', 'ISBN', 'Book-Rating']\n",
        "\n",
        "ratings = ratings[ratings['Book-Rating'] > 0]\n",
        "\n",
        "data = pd.merge(ratings, books[['ISBN', 'Book-Title']], on='ISBN')\n",
        "data = data.dropna()\n"
      ],
      "metadata": {
        "id": "Z6QqFCwvyS81"
      },
      "execution_count": null,
      "outputs": []
    },
    {
      "cell_type": "code",
      "source": [
        "reader = Reader(rating_scale=(1, 10))\n",
        "svd_data = Dataset.load_from_df(data[['User-ID', 'Book-Title', 'Book-Rating']], reader)\n",
        "trainset = svd_data.build_full_trainset()\n",
        "\n",
        "algo = SVD(n_factors=50, n_epochs=20, lr_all=0.005, reg_all=0.02)\n",
        "algo.fit(trainset)\n"
      ],
      "metadata": {
        "colab": {
          "base_uri": "https://localhost:8080/"
        },
        "id": "XvfPNt-hKkQN",
        "outputId": "450a2083-100f-4419-d3fc-e0e03d8b4ab0"
      },
      "execution_count": null,
      "outputs": [
        {
          "output_type": "execute_result",
          "data": {
            "text/plain": [
              "<surprise.prediction_algorithms.matrix_factorization.SVD at 0x7ec8d5e382d0>"
            ]
          },
          "metadata": {},
          "execution_count": 5
        }
      ]
    },
    {
      "cell_type": "code",
      "source": [
        "def get_top_n_books(algo, data, user_id, n=20):\n",
        "    all_books = data['Book-Title'].unique()\n",
        "    read_books = data[data['User-ID'] == user_id]['Book-Title'].unique()\n",
        "    unread_books = np.setdiff1d(all_books, read_books)\n",
        "\n",
        "    testset = [[user_id, book, 4.] for book in unread_books]\n",
        "    predictions = algo.test(testset)\n",
        "\n",
        "    results = []\n",
        "    for pred in predictions:\n",
        "        results.append({'Book-Title': pred.iid, 'predicted_rating': round(pred.est, 2)})\n",
        "\n",
        "    return pd.DataFrame(results).sort_values('predicted_rating', ascending=False).head(n)\n"
      ],
      "metadata": {
        "id": "RXA_oWbRKk7I"
      },
      "execution_count": null,
      "outputs": []
    },
    {
      "cell_type": "code",
      "source": [
        "def diversify_recommendations(recommendations, books, n=10, diversity_weight=0.7):\n",
        "    book_authors = books.set_index('Book-Title')['Book-Author'].astype(str)\n",
        "    rec_authors = book_authors.loc[recommendations['Book-Title']].fillna('Unknown')\n",
        "    author_matrix = pd.get_dummies(rec_authors)\n",
        "\n",
        "    similarity_matrix = cosine_similarity(author_matrix.values)\n",
        "    selected = [0]\n",
        "    remaining = list(range(1, len(recommendations)))\n",
        "\n",
        "    while len(selected) < n and remaining:\n",
        "        similarities = similarity_matrix[remaining][:, selected]\n",
        "        avg_sim = similarities.max(axis=1)\n",
        "        diversity_score = 1 - avg_sim\n",
        "        combined_score = (\n",
        "            (1 - diversity_weight) * recommendations.iloc[remaining]['predicted_rating'].values +\n",
        "            diversity_weight * diversity_score\n",
        "        )\n",
        "        next_index = remaining[np.argmax(combined_score)]\n",
        "        selected.append(next_index)\n",
        "        remaining.remove(next_index)\n",
        "\n",
        "    return recommendations.iloc[selected[:n]]\n"
      ],
      "metadata": {
        "id": "lNWa0n6qKoDZ"
      },
      "execution_count": null,
      "outputs": []
    },
    {
      "cell_type": "code",
      "source": [
        "def explain_recommendations(user_id, recommendations, data, books):\n",
        "    user_books = data[data['User-ID'] == user_id]\n",
        "    fav_authors = books[books['Book-Title'].isin(user_books['Book-Title'])]['Book-Author'].value_counts().head(3).index.tolist()\n",
        "\n",
        "    explanations = []\n",
        "    for _, row in recommendations.iterrows():\n",
        "        book_author = books[books['Book-Title'] == row['Book-Title']]['Book-Author'].values[0]\n",
        "        if book_author in fav_authors:\n",
        "            explanations.append(f\"You like books by {book_author}\")\n",
        "        else:\n",
        "            fallback = fav_authors[0] if fav_authors else 'similar readers'\n",
        "            explanations.append(f\"Popular with fans of {fallback}\")\n",
        "    recommendations['explanation'] = explanations\n",
        "    return recommendations\n"
      ],
      "metadata": {
        "id": "RiIR0LcSKrLp"
      },
      "execution_count": null,
      "outputs": []
    },
    {
      "cell_type": "code",
      "source": [
        "def main():\n",
        "    user_id = 276725\n",
        "    basic_recs = get_top_n_books(algo, data, user_id, n=50)\n",
        "    diverse_recs = diversify_recommendations(basic_recs, books, n=15)\n",
        "    final_recs = explain_recommendations(user_id, diverse_recs, data, books)\n",
        "    print(final_recs[['Book-Title', 'predicted_rating', 'explanation']].to_string(index=False))\n",
        "\n",
        "main()\n"
      ],
      "metadata": {
        "colab": {
          "base_uri": "https://localhost:8080/"
        },
        "id": "1LBeUT_xKwaT",
        "outputId": "0c2534ac-b358-41ff-b163-3795c4de608f"
      },
      "execution_count": null,
      "outputs": [
        {
          "output_type": "stream",
          "name": "stdout",
          "text": [
            "                                                                    Book-Title  predicted_rating                          explanation\n",
            "                         Harry Potter and the Chamber of Secrets Postcard Book              9.38 Popular with fans of similar readers\n",
            "                                  My Sister's Keeper : A Novel (Picoult, Jodi)              9.28 Popular with fans of similar readers\n",
            "                                                  Dilbert: A Book of Postcards              9.21 Popular with fans of similar readers\n",
            "                                                                 Lonesome Dove              9.11 Popular with fans of similar readers\n",
            "                                                  Weirdos From Another Planet!              8.98 Popular with fans of similar readers\n",
            "                                                         84 Charing Cross Road              8.98 Popular with fans of similar readers\n",
            "                                                                Redeeming Love              8.92 Popular with fans of similar readers\n",
            "                                                            Johnny Got His Gun              8.88 Popular with fans of similar readers\n",
            "                                The Two Towers (The Lord of the Rings, Part 2)              8.88 Popular with fans of similar readers\n",
            "Maus 1. Mein Vater kotzt Geschichte aus. Die Geschichte eines Ã?Â?berlebenden.              8.88 Popular with fans of similar readers\n",
            "                        The Return of the King (The Lord of The Rings, Part 3)              8.87 Popular with fans of similar readers\n",
            "                                                             The Little Prince              8.87 Popular with fans of similar readers\n",
            "                                                           The Grapes of Wrath              8.85 Popular with fans of similar readers\n",
            "                                                            The Cat in the Hat              8.84 Popular with fans of similar readers\n",
            "                     Fox in Socks (I Can Read It All by Myself Beginner Books)              8.84 Popular with fans of similar readers\n"
          ]
        },
        {
          "output_type": "stream",
          "name": "stderr",
          "text": [
            "<ipython-input-8-5be683ae1852>:13: SettingWithCopyWarning: \n",
            "A value is trying to be set on a copy of a slice from a DataFrame.\n",
            "Try using .loc[row_indexer,col_indexer] = value instead\n",
            "\n",
            "See the caveats in the documentation: https://pandas.pydata.org/pandas-docs/stable/user_guide/indexing.html#returning-a-view-versus-a-copy\n",
            "  recommendations['explanation'] = explanations\n"
          ]
        }
      ]
    }
  ]
}