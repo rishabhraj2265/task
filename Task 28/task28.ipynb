{
  "nbformat": 4,
  "nbformat_minor": 0,
  "metadata": {
    "colab": {
      "provenance": []
    },
    "kernelspec": {
      "name": "python3",
      "display_name": "Python 3"
    },
    "language_info": {
      "name": "python"
    }
  },
  "cells": [
    {
      "cell_type": "markdown",
      "source": [
        "\n",
        "# **Financial Portfolio Analysis**\n",
        "\n",
        "This notebook analyzes and visualizes a financial portfolio dataset containing various asset types tracked over time. Using Python libraries such as pandas, matplotlib, and numpy, we will explore the data and create animations to illustrate portfolio trends."
      ],
      "metadata": {
        "id": "JtScpiUm0VdK"
      }
    },
    {
      "cell_type": "code",
      "execution_count": null,
      "metadata": {
        "colab": {
          "base_uri": "https://localhost:8080/"
        },
        "id": "JnaSzj5MMfdF",
        "outputId": "a709b40b-e976-4c1b-fd07-d0e939bb9384"
      },
      "outputs": [
        {
          "output_type": "stream",
          "name": "stdout",
          "text": [
            "Reading package lists... Done\n",
            "Building dependency tree... Done\n",
            "Reading state information... Done\n",
            "ffmpeg is already the newest version (7:4.4.2-0ubuntu0.22.04.1).\n",
            "0 upgraded, 0 newly installed, 0 to remove and 34 not upgraded.\n"
          ]
        }
      ],
      "source": [
        "!apt-get -y install ffmpeg"
      ]
    },
    {
      "cell_type": "markdown",
      "source": [
        "# **Import Libraries**\n",
        "\n",
        "Import the necessary python libraries"
      ],
      "metadata": {
        "id": "HYMwtU5f1Efm"
      }
    },
    {
      "cell_type": "code",
      "source": [
        "import pandas as pd\n",
        "import numpy as np\n",
        "import matplotlib.pyplot as plt\n",
        "import matplotlib.animation as animation\n",
        "from matplotlib import dates as mdates\n",
        "from IPython.display import HTML\n",
        "import matplotlib.ticker as ticker\n",
        "from matplotlib.gridspec import GridSpec"
      ],
      "metadata": {
        "id": "gYPHl_mfNJvr"
      },
      "execution_count": null,
      "outputs": []
    },
    {
      "cell_type": "markdown",
      "source": [
        "# **load Dataset**\n",
        "\n",
        "uplod financial_portfolio_data.csv file and extract the asset from the 'Asset column."
      ],
      "metadata": {
        "id": "utuNewW71SaQ"
      }
    },
    {
      "cell_type": "code",
      "source": [
        "df = pd.read_csv('/content/financial_portfolio_data.csv', parse_dates=['Date'])\n",
        "df['AssetType'] = df['Asset'].str.extract(r'([A-Za-z]+)')[0]\n",
        "\n",
        "\n",
        "daily_prices = df.groupby(['Date', 'AssetType'])['Price'].mean().unstack()\n",
        "daily_prices = daily_prices.ffill()\n",
        "daily_prices = daily_prices.fillna(0)\n",
        "\n",
        "\n",
        "rolling_7d = daily_prices.rolling(7, min_periods=1).mean()\n",
        "rolling_30d = daily_prices.rolling(30, min_periods=1).mean()\n",
        "\n",
        "\n",
        "plt.style.use('seaborn-v0_8-darkgrid')\n",
        "fig = plt.figure(figsize=(14, 8), facecolor='#f0f0f0')\n",
        "gs = GridSpec(2, 2, figure=fig, height_ratios=[3, 1], width_ratios=[3, 1])\n",
        "\n",
        "ax_main = fig.add_subplot(gs[0, 0])\n",
        "ax_vol = fig.add_subplot(gs[1, 0])\n",
        "ax_pie = fig.add_subplot(gs[:, 1])"
      ],
      "metadata": {
        "colab": {
          "base_uri": "https://localhost:8080/",
          "height": 662
        },
        "id": "5zWwaWFfNS2i",
        "outputId": "731b3136-994e-4e1a-f79c-de5871fe7a04"
      },
      "execution_count": null,
      "outputs": [
        {
          "output_type": "display_data",
          "data": {
            "text/plain": [
              "<Figure size 1400x800 with 3 Axes>"
            ],
            "image/png": "[encoded data removed]"
          },
          "metadata": {}
        }
      ]
    },
    {
      "cell_type": "code",
      "source": [
        "colors = {\n",
        "    'Stock': '#4E79A7',\n",
        "    'Bond': '#59A14F',\n",
        "    'Commodity': '#E15759'\n",
        "}\n",
        "\n",
        "\n",
        "main_lines = []\n",
        "ma7_lines = []\n",
        "ma30_lines = []\n",
        "vol_bars = []\n",
        "\n",
        "\n",
        "date_label = ax_main.text(0.02, 0.95, '', transform=ax_main.transAxes,\n",
        "                        fontsize=12, bbox=dict(facecolor='white', alpha=0.9))\n",
        "\n",
        "\n",
        "ax_main.set_ylabel('Price ($)', fontsize=12)\n",
        "ax_main.set_title('Portfolio Performance with Moving Averages', fontsize=14, pad=20)\n",
        "ax_main.xaxis.set_major_locator(mdates.MonthLocator())\n",
        "ax_main.xaxis.set_major_formatter(mdates.DateFormatter('%b'))\n",
        "ax_main.grid(True, alpha=0.3)\n",
        "\n",
        "ax_vol.set_xlabel('Date', fontsize=12)\n",
        "ax_vol.set_ylabel('Daily Updates', fontsize=10)\n",
        "ax_vol.xaxis.set_major_locator(mdates.MonthLocator())"
      ],
      "metadata": {
        "id": "waksRHOvNdTm"
      },
      "execution_count": null,
      "outputs": []
    },
    {
      "cell_type": "markdown",
      "source": [
        "# **Group and Summarize Data**\n",
        "\n",
        "\n",
        "We aggregate the portfolio data by asset and date to analyze value trends over time."
      ],
      "metadata": {
        "id": "SxjOtbNc2Frt"
      }
    },
    {
      "cell_type": "code",
      "source": [
        "def animate(i):\n",
        "    current_date = daily_prices.index[i]\n",
        "    window = daily_prices.index[max(0, i-90):i+1]\n",
        "\n",
        "\n",
        "    for line in main_lines + ma7_lines + ma30_lines:\n",
        "        line.remove()\n",
        "    for bar in vol_bars:\n",
        "        bar.remove()\n",
        "\n",
        "    main_lines.clear()\n",
        "    ma7_lines.clear()\n",
        "    ma30_lines.clear()\n",
        "    vol_bars.clear()\n",
        "\n",
        "\n",
        "    for asset in expected_assets:\n",
        "\n",
        "        line, = ax_main.plot(window, daily_prices[asset][window],\n",
        "                           color=colors[asset], lw=2.5, alpha=0.8, label=asset)\n",
        "        main_lines.append(line)\n",
        "\n",
        "\n",
        "        line, = ax_main.plot(window, rolling_7d[asset][window],\n",
        "                           color=colors[asset], lw=1, alpha=0.3, ls='--')\n",
        "        ma7_lines.append(line)\n",
        "\n",
        "\n",
        "        line, = ax_main.plot(window, rolling_30d[asset][window],\n",
        "                           color=colors[asset], lw=1.5, alpha=0.5)\n",
        "        ma30_lines.append(line)\n",
        "\n",
        "\n",
        "    daily_counts = df[df['Date'] <= current_date].groupby(['Date', 'AssetType']).size().unstack().fillna(0)\n",
        "    bottom = None\n",
        "    for asset in expected_assets:\n",
        "        if asset in daily_counts.columns:\n",
        "            bars = ax_vol.bar(daily_counts.index, daily_counts[asset],\n",
        "                             color=colors[asset], bottom=bottom, alpha=0.7, width=1)\n",
        "            vol_bars.extend(bars)\n",
        "            bottom = daily_counts[asset] if bottom is None else bottom + daily_counts[asset]\n",
        "\n",
        "\n",
        "    ax_pie.clear()\n",
        "    try:\n",
        "        current_values = daily_prices.loc[current_date]\n",
        "        ax_pie.pie(current_values, labels=current_values.index,\n",
        "                  colors=[colors[a] for a in current_values.index],\n",
        "                  autopct='%1.1f%%', startangle=90)\n",
        "        ax_pie.set_title(f'Allocation on {current_date.strftime(\"%b %d\")}', fontsize=12)\n",
        "    except Exception as e:\n",
        "        print(f\"Error updating pie chart: {e}\")\n",
        "\n",
        "\n",
        "    date_label.set_text(current_date.strftime('%B %d, %Y'))\n",
        "\n",
        "\n",
        "    ax_main.relim()\n",
        "    ax_main.autoscale_view()\n",
        "    ax_vol.set_xlim(window[0], window[-1])\n",
        "    ax_vol.set_ylim(0, max(1, daily_counts.sum(axis=1).max() * 1.1))\n",
        "\n",
        "    return main_lines + ma7_lines + ma30_lines + vol_bars + ax_pie.patches + [date_label]"
      ],
      "metadata": {
        "id": "v6ydsE7VNi92"
      },
      "execution_count": null,
      "outputs": []
    },
    {
      "cell_type": "markdown",
      "source": [
        "\n",
        "# **Create Animated Bar Chart**\n",
        "\n",
        "using matplotlib.animation to create a bar chart"
      ],
      "metadata": {
        "id": "6_PrrLTN2QxL"
      }
    },
    {
      "cell_type": "code",
      "source": [
        "ani = animation.FuncAnimation(\n",
        "    fig, animate, frames=min(200, len(daily_prices)),  # Limit to 200 frames\n",
        "    interval=100, blit=False, repeat_delay=2000\n",
        ")\n",
        "\n",
        "\n",
        "plt.rcParams['animation.embed_limit'] = 100  # 100MB limit\n",
        "plt.tight_layout()\n",
        "plt.close()"
      ],
      "metadata": {
        "id": "8auhdnqdNnpF"
      },
      "execution_count": null,
      "outputs": []
    },
    {
      "cell_type": "markdown",
      "source": [
        "# **Display the Animation**\n",
        "\n",
        "Finally, we render the animation to visualize asset performance dynamically."
      ],
      "metadata": {
        "id": "c1xNbybs2j6S"
      }
    },
    {
      "cell_type": "code",
      "source": [
        "HTML(ani.to_jshtml())\n"
      ],
      "metadata": {
        "id": "MgQWe0fsNquq"
      },
      "execution_count": null,
      "outputs": []
    }
  ]
}