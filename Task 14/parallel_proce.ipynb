{
  "nbformat": 4,
  "nbformat_minor": 0,
  "metadata": {
    "colab": {
      "provenance": []
    },
    "kernelspec": {
      "name": "python3",
      "display_name": "Python 3"
    },
    "language_info": {
      "name": "python"
    }
  },
  "cells": [
    {
      "cell_type": "code",
      "execution_count": null,
      "metadata": {
        "colab": {
          "base_uri": "https://localhost:8080/"
        },
        "id": "8fXq1wTfYQ-Y",
        "outputId": "105461de-f56c-487a-9474-28379d1d767a"
      },
      "outputs": [
        {
          "output_type": "stream",
          "name": "stdout",
          "text": [
            "Requirement already satisfied: pandas in /usr/local/lib/python3.11/dist-packages (2.2.2)\n",
            "Requirement already satisfied: numpy in /usr/local/lib/python3.11/dist-packages (2.0.2)\n",
            "Requirement already satisfied: python-dateutil>=2.8.2 in /usr/local/lib/python3.11/dist-packages (from pandas) (2.9.0.post0)\n",
            "Requirement already satisfied: pytz>=2020.1 in /usr/local/lib/python3.11/dist-packages (from pandas) (2025.2)\n",
            "Requirement already satisfied: tzdata>=2022.7 in /usr/local/lib/python3.11/dist-packages (from pandas) (2025.2)\n",
            "Requirement already satisfied: six>=1.5 in /usr/local/lib/python3.11/dist-packages (from python-dateutil>=2.8.2->pandas) (1.17.0)\n"
          ]
        }
      ],
      "source": [
        "pip install pandas numpy\n"
      ]
    },
    {
      "cell_type": "code",
      "source": [
        "import pandas as pd\n",
        "import numpy as np\n",
        "import multiprocessing\n",
        "from multiprocessing import Pool\n",
        "import os\n"
      ],
      "metadata": {
        "id": "j0K1dQSVZ05f"
      },
      "execution_count": null,
      "outputs": []
    },
    {
      "cell_type": "code",
      "source": [
        "def load_data_in_chunks(file_path, chunk_size=100000):\n",
        "    chunk_iter = pd.read_csv(file_path, chunksize=chunk_size)\n",
        "    return chunk_iter\n",
        "\n",
        "file_path = '/financial_risk_analysis_large.csv'\n",
        "chunks = load_data_in_chunks(file_path)\n"
      ],
      "metadata": {
        "id": "GlJteMbIaVdI"
      },
      "execution_count": null,
      "outputs": []
    },
    {
      "cell_type": "code",
      "source": [
        "def handle_missing_values(chunk):\n",
        "    chunk.fillna(chunk.mean(), inplace=True)\n",
        "    return chunk\n"
      ],
      "metadata": {
        "id": "0ezUWQ6Ja7D4"
      },
      "execution_count": null,
      "outputs": []
    },
    {
      "cell_type": "code",
      "source": [
        "def feature_engineering(chunk):\n",
        "    chunk['DebtToIncomeRatio'] = chunk['MonthlyDebtPayments'] / chunk['AnnualIncome']\n",
        "    return chunk\n"
      ],
      "metadata": {
        "id": "mvBccrVXa9D8"
      },
      "execution_count": null,
      "outputs": []
    },
    {
      "cell_type": "code",
      "source": [
        "def process_chunk(chunk):\n",
        "\n",
        "    chunk = handle_missing_values(chunk)\n",
        "    chunk = feature_engineering(chunk)\n",
        "    return chunk\n"
      ],
      "metadata": {
        "id": "u6XUkJSHbBjA"
      },
      "execution_count": null,
      "outputs": []
    },
    {
      "cell_type": "code",
      "source": [
        "def handle_missing_values(chunk):\n",
        "    numeric_cols = chunk.select_dtypes(include='number').columns\n",
        "    chunk[numeric_cols] = chunk[numeric_cols].fillna(chunk[numeric_cols].mean())\n",
        "    return chunk\n"
      ],
      "metadata": {
        "id": "R_fHYV1kc4Sx"
      },
      "execution_count": null,
      "outputs": []
    },
    {
      "cell_type": "code",
      "source": [
        "import pandas as pd\n",
        "from multiprocessing import Pool, cpu_count\n",
        "\n",
        "# Load in chunks\n",
        "def load_data_in_chunks(file_path, chunk_size=100000):\n",
        "    return pd.read_csv(file_path, chunksize=chunk_size)\n",
        "\n",
        "# Process one chunk (parallelized)\n",
        "def process_chunk(chunk):\n",
        "    return handle_missing_values(chunk)\n",
        "\n",
        "# Fix missing values only in numeric columns\n",
        "def handle_missing_values(chunk):\n",
        "    numeric_cols = chunk.select_dtypes(include='number').columns\n",
        "    chunk[numeric_cols] = chunk[numeric_cols].fillna(chunk[numeric_cols].mean())\n",
        "    return chunk\n",
        "\n",
        "# Parallel processing controller\n",
        "def parallel_process_data(file_path, chunk_size=100000, num_workers=cpu_count()):\n",
        "    pool = Pool(processes=num_workers)\n",
        "    chunk_iter = load_data_in_chunks(file_path, chunk_size)\n",
        "    processed_chunks = pool.map(process_chunk, chunk_iter)\n",
        "    pool.close()\n",
        "    pool.join()\n",
        "    return pd.concat(processed_chunks, ignore_index=True)\n",
        "\n",
        "# Set the correct file path\n",
        "file_path = '/financial_risk_analysis_large.csv'\n",
        "\n",
        "# Run it\n",
        "processed_data = parallel_process_data(file_path)\n"
      ],
      "metadata": {
        "id": "N1pTbWWgc43u"
      },
      "execution_count": null,
      "outputs": []
    },
    {
      "cell_type": "code",
      "source": [
        "import time\n",
        "start = time.time()\n",
        "processed_data = parallel_process_data(file_path)\n",
        "end = time.time()\n",
        "print(f\"Total time: {end - start:.2f} seconds\")\n"
      ],
      "metadata": {
        "colab": {
          "base_uri": "https://localhost:8080/"
        },
        "id": "ODrMCHO6c9w1",
        "outputId": "eeb6351f-c123-4fa0-c4a8-4d1958c0c5e5"
      },
      "execution_count": null,
      "outputs": [
        {
          "output_type": "stream",
          "name": "stdout",
          "text": [
            "Total time: 13.18 seconds\n"
          ]
        }
      ]
    },
    {
      "cell_type": "code",
      "source": [
        "pip install psutil\n"
      ],
      "metadata": {
        "colab": {
          "base_uri": "https://localhost:8080/"
        },
        "id": "s0gquR45dMo9",
        "outputId": "b4855afa-7e29-496d-aa02-6d169f1147be"
      },
      "execution_count": null,
      "outputs": [
        {
          "output_type": "stream",
          "name": "stdout",
          "text": [
            "Requirement already satisfied: psutil in /usr/local/lib/python3.11/dist-packages (5.9.5)\n"
          ]
        }
      ]
    },
    {
      "cell_type": "code",
      "source": [
        "import psutil\n",
        "\n",
        "def get_memory_usage():\n",
        "    process = psutil.Process(os.getpid())\n",
        "    return process.memory_info().rss / 1024 / 1024  # Memory in MB\n",
        "\n",
        "# Example: Before and after processing memory usage\n",
        "print(f\"Before processing: {get_memory_usage()} MB\")\n",
        "processed_data = parallel_process_data(file_path)\n",
        "print(f\"After processing: {get_memory_usage()} MB\")\n"
      ],
      "metadata": {
        "colab": {
          "base_uri": "https://localhost:8080/"
        },
        "id": "XBIbhWE1dTul",
        "outputId": "48545e4d-5d0e-4c8b-b5d1-d4601b06e970"
      },
      "execution_count": null,
      "outputs": [
        {
          "output_type": "stream",
          "name": "stdout",
          "text": [
            "Before processing: 1179.9140625 MB\n",
            "After processing: 1234.2265625 MB\n"
          ]
        }
      ]
    },
    {
      "cell_type": "code",
      "source": [
        "processed_data.to_csv('processed_financial_risk_data.csv', index=False)\n"
      ],
      "metadata": {
        "id": "omM5XLjndWQR"
      },
      "execution_count": null,
      "outputs": []
    },
    {
      "cell_type": "code",
      "source": [
        "test_chunk = pd.read_csv(file_path, nrows=10000)\n",
        "test_data = process_chunk(test_chunk)\n",
        "test_data.to_csv('test_processed_data.csv', index=False)\n"
      ],
      "metadata": {
        "id": "C7pCwcGOddEF"
      },
      "execution_count": null,
      "outputs": []
    },
    {
      "cell_type": "code",
      "source": [
        "import time\n",
        "\n",
        "start_time = time.time()\n",
        "sequential_data = pd.concat([process_chunk(chunk) for chunk in load_data_in_chunks(file_path)], ignore_index=True)\n",
        "end_time = time.time()\n",
        "print(f\"Sequential processing took {end_time - start_time:.2f} seconds\")\n",
        "\n",
        "start_time = time.time()\n",
        "parallel_data = parallel_process_data(file_path)\n",
        "end_time = time.time()\n",
        "print(f\"Parallel processing took {end_time - start_time:.2f} seconds\")\n"
      ],
      "metadata": {
        "colab": {
          "base_uri": "https://localhost:8080/"
        },
        "id": "j5bWR9i2d_gM",
        "outputId": "acc35dca-6cf1-4bcc-ee30-8ca0ee8dddcf"
      },
      "execution_count": null,
      "outputs": [
        {
          "output_type": "stream",
          "name": "stdout",
          "text": [
            "Sequential processing took 6.94 seconds\n",
            "Parallel processing took 12.67 seconds\n"
          ]
        }
      ]
    },
    {
      "cell_type": "code",
      "source": [],
      "metadata": {
        "id": "tQ1nkS7PeZCs"
      },
      "execution_count": null,
      "outputs": []
    }
  ]
}