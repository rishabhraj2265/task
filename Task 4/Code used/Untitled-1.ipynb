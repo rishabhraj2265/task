{
 "cells": [
  {
   "cell_type": "code",
   "execution_count": 1,
   "id": "0dd2e31d",
   "metadata": {},
   "outputs": [],
   "source": [
    "import pandas as pd\n"
   ]
  },
  {
   "cell_type": "code",
   "execution_count": 7,
   "id": "ccc1b26b",
   "metadata": {},
   "outputs": [],
   "source": [
    "covid_df = pd.read_csv('covid-data.csv')\n",
    "\n",
    "econ_df = pd.read_csv('world_bank_economic_data.csv')\n"
   ]
  },
  {
   "cell_type": "code",
   "execution_count": 8,
   "id": "3143f16d",
   "metadata": {},
   "outputs": [
    {
     "name": "stdout",
     "output_type": "stream",
     "text": [
      "['Country Name', 'Country Code', 'Series Name', 'Series Code', '2019 [YR2019]', '2022 [YR2022]']\n"
     ]
    }
   ],
   "source": [
    "print(econ_df.columns.tolist())\n"
   ]
  },
  {
   "cell_type": "code",
   "execution_count": 10,
   "id": "3bbebd70",
   "metadata": {},
   "outputs": [
    {
     "name": "stdout",
     "output_type": "stream",
     "text": [
      "Indicator      Country  Year  GDP (current US$)  \\\n",
      "0          Afghanistan  2019       1.879944e+10   \n",
      "1          Afghanistan  2022       1.449724e+10   \n",
      "2              Albania  2019       1.558511e+10   \n",
      "3              Albania  2022       1.901724e+10   \n",
      "4              Algeria  2019       1.934597e+11   \n",
      "\n",
      "Indicator  Inflation, consumer prices (annual %)  \\\n",
      "0                                       2.302373   \n",
      "1                                      13.712102   \n",
      "2                                       1.411091   \n",
      "3                                       6.725203   \n",
      "4                                       1.951768   \n",
      "\n",
      "Indicator  Merchandise trade (% of GDP)  \\\n",
      "0                             40.644818   \n",
      "1                             43.801429   \n",
      "2                             55.264305   \n",
      "3                             66.823568   \n",
      "4                             41.323343   \n",
      "\n",
      "Indicator  Unemployment, total (% of total labor force) (national estimate)  \n",
      "0                                                        NaN                 \n",
      "1                                                        NaN                 \n",
      "2                                                     11.466                 \n",
      "3                                                     10.785                 \n",
      "4                                                        NaN                 \n"
     ]
    }
   ],
   "source": [
    "\n",
    "econ_df.rename(columns={\n",
    "    'Country Name': 'Country',\n",
    "    'Series Name': 'Indicator'\n",
    "}, inplace=True)\n",
    "\n",
    "econ_df_melted = econ_df.melt(\n",
    "    id_vars=['Country', 'Indicator'],\n",
    "    var_name='Year',\n",
    "    value_name='Value'\n",
    ")\n",
    "\n",
    "econ_df_melted['Year'] = econ_df_melted['Year'].str.extract(r'(\\d{4})')\n",
    "econ_df_melted.dropna(subset=['Year'], inplace=True)\n",
    "econ_df_melted['Year'] = econ_df_melted['Year'].astype(int)\n",
    "\n",
    "econ_df_melted['Value'] = pd.to_numeric(econ_df_melted['Value'], errors='coerce')\n",
    "\n",
    "econ_pivot = econ_df_melted.pivot_table(\n",
    "    index=['Country', 'Year'],\n",
    "    columns='Indicator',\n",
    "    values='Value'\n",
    ").reset_index()\n",
    "\n",
    "print(econ_pivot.head())\n"
   ]
  },
  {
   "cell_type": "code",
   "execution_count": 12,
   "id": "c208ec7c",
   "metadata": {},
   "outputs": [],
   "source": [
    "covid_df_simple = covid_df[['location', 'date', 'total_cases', 'total_deaths']].copy()\n",
    "\n",
    "covid_df_simple.rename(columns={'location': 'Country'}, inplace=True)\n",
    "\n",
    "covid_df_simple['Year'] = pd.to_datetime(covid_df_simple['date']).dt.year\n",
    "\n",
    "covid_latest = covid_df_simple.groupby(['Country', 'Year'])[['total_cases', 'total_deaths']].max().reset_index()\n"
   ]
  },
  {
   "cell_type": "code",
   "execution_count": 13,
   "id": "a0bc1cf1",
   "metadata": {},
   "outputs": [
    {
     "name": "stdout",
     "output_type": "stream",
     "text": [
      "       Country  Year  total_cases  total_deaths\n",
      "0  Afghanistan  2020      51848.0        2158.0\n",
      "1  Afghanistan  2021     157902.0        7352.0\n",
      "2  Afghanistan  2022     207322.0        7845.0\n",
      "3  Afghanistan  2023     230375.0        7973.0\n",
      "4  Afghanistan  2024     235214.0        7998.0\n"
     ]
    }
   ],
   "source": [
    "print(covid_latest.head())\n"
   ]
  },
  {
   "cell_type": "code",
   "execution_count": 14,
   "id": "d23ef4be",
   "metadata": {},
   "outputs": [
    {
     "name": "stdout",
     "output_type": "stream",
     "text": [
      "          Country  Year  GDP (current US$)  \\\n",
      "0     Afghanistan  2022       1.449724e+10   \n",
      "1         Albania  2022       1.901724e+10   \n",
      "2         Algeria  2022       2.256385e+11   \n",
      "3  American Samoa  2022       8.710000e+08   \n",
      "4         Andorra  2022       3.380613e+09   \n",
      "\n",
      "   Inflation, consumer prices (annual %)  Merchandise trade (% of GDP)  \\\n",
      "0                              13.712102                     43.801429   \n",
      "1                               6.725203                     66.823568   \n",
      "2                               9.265516                     46.351141   \n",
      "3                                    NaN                    116.991963   \n",
      "4                                    NaN                     66.555985   \n",
      "\n",
      "   Unemployment, total (% of total labor force) (national estimate)  \\\n",
      "0                                                NaN                  \n",
      "1                                             10.785                  \n",
      "2                                                NaN                  \n",
      "3                                                NaN                  \n",
      "4                                                NaN                  \n",
      "\n",
      "   total_cases  total_deaths  \n",
      "0     207322.0        7845.0  \n",
      "1     332670.0        3596.0  \n",
      "2     271194.0        6881.0  \n",
      "3       8266.0          34.0  \n",
      "4      47686.0         158.0  \n"
     ]
    }
   ],
   "source": [
    "merged_df = pd.merge(econ_pivot, covid_latest, on=['Country', 'Year'], how='inner')\n",
    "\n",
    "print(merged_df.head())\n"
   ]
  },
  {
   "cell_type": "code",
   "execution_count": 15,
   "id": "84d2f570",
   "metadata": {},
   "outputs": [],
   "source": [
    "merged_df.to_csv('merged_data.csv', index=False)\n"
   ]
  },
  {
   "cell_type": "code",
   "execution_count": 16,
   "id": "37aa2f68",
   "metadata": {},
   "outputs": [
    {
     "name": "stdout",
     "output_type": "stream",
     "text": [
      "          Country  Year  GDP (current US$)  \\\n",
      "0     Afghanistan  2022       1.449724e+10   \n",
      "1         Albania  2022       1.901724e+10   \n",
      "2         Algeria  2022       2.256385e+11   \n",
      "3  American Samoa  2022       8.710000e+08   \n",
      "4         Andorra  2022       3.380613e+09   \n",
      "\n",
      "   Inflation, consumer prices (annual %)  Merchandise trade (% of GDP)  \\\n",
      "0                              13.712102                     43.801429   \n",
      "1                               6.725203                     66.823568   \n",
      "2                               9.265516                     46.351141   \n",
      "3                                    NaN                    116.991963   \n",
      "4                                    NaN                     66.555985   \n",
      "\n",
      "   Unemployment, total (% of total labor force) (national estimate)  \\\n",
      "0                                                NaN                  \n",
      "1                                             10.785                  \n",
      "2                                                NaN                  \n",
      "3                                                NaN                  \n",
      "4                                                NaN                  \n",
      "\n",
      "   total_cases  total_deaths  \n",
      "0     207322.0        7845.0  \n",
      "1     332670.0        3596.0  \n",
      "2     271194.0        6881.0  \n",
      "3       8266.0          34.0  \n",
      "4      47686.0         158.0  \n"
     ]
    }
   ],
   "source": [
    "merged_df_filtered = merged_df[merged_df['Country'] == 'India']\n",
    "\n",
    "merged_df_filtered = merged_df[(merged_df['Year'] >= 2020) & (merged_df['Year'] <= 2022)]\n",
    "\n",
    "print(merged_df_filtered.head())\n"
   ]
  },
  {
   "cell_type": "code",
   "execution_count": 17,
   "id": "64c8ff52",
   "metadata": {},
   "outputs": [],
   "source": [
    "merged_df.to_csv('merged_economy_covid_data.csv', index=False)\n"
   ]
  },
  {
   "cell_type": "code",
   "execution_count": null,
   "id": "8c93b6e1",
   "metadata": {},
   "outputs": [],
   "source": []
  }
 ],
 "metadata": {
  "kernelspec": {
   "display_name": ".venv",
   "language": "python",
   "name": "python3"
  },
  "language_info": {
   "codemirror_mode": {
    "name": "ipython",
    "version": 3
   },
   "file_extension": ".py",
   "mimetype": "text/x-python",
   "name": "python",
   "nbconvert_exporter": "python",
   "pygments_lexer": "ipython3",
   "version": "3.10.12"
  }
 },
 "nbformat": 4,
 "nbformat_minor": 5
}
